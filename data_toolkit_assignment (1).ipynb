{
  "nbformat": 4,
  "nbformat_minor": 0,
  "metadata": {
    "colab": {
      "provenance": []
    },
    "kernelspec": {
      "name": "python3",
      "display_name": "Python 3"
    },
    "language_info": {
      "name": "python"
    }
  },
  "cells": [
    {
      "cell_type": "markdown",
      "source": [
        "# Theoritical question"
      ],
      "metadata": {
        "id": "1BKwVyYX8sCZ"
      }
    },
    {
      "cell_type": "markdown",
      "source": [
        "# What is NumPy, and why is it widely used in Python"
      ],
      "metadata": {
        "id": "BQynu-bn8yfe"
      }
    },
    {
      "cell_type": "markdown",
      "source": [
        ">>NumPy (Numerical Python) is a powerful Python library used for numerical computing. It provides:\n",
        "\n",
        "N-dimensional arrays (faster and more efficient than Python lists)\n",
        "\n",
        "Mathematical functions for linear algebra, statistics, and more\n",
        "\n",
        "Vectorized operations (no need for loops)\n",
        "\n",
        "✅ Why it's widely used:\n",
        "\n",
        "Fast performance (built on C)\n",
        "\n",
        "Foundation for libraries like Pandas, TensorFlow, and SciPy\n",
        "\n",
        "Essential for data science, machine learning, and scientific computing\n",
        "\n",
        "In short: NumPy is the backbone of numerical computing in Python.\n",
        "\n",
        "\n",
        "\n",
        "\n",
        "\n",
        "\n",
        "\n",
        "Ask ChatGPT\n"
      ],
      "metadata": {
        "id": "9D_HLSuH88fB"
      }
    },
    {
      "cell_type": "markdown",
      "source": [
        "# How does broadcasting work in NumPy"
      ],
      "metadata": {
        "id": "0t3MXvxD9Tpu"
      }
    },
    {
      "cell_type": "markdown",
      "source": [
        ">>What Is Broadcasting?\n",
        "\n",
        "Broadcasting is how NumPy automatically expands arrays of different shapes so they can be used in element-wise operations (like +, -, *, etc.), without copying data.\n",
        "\n",
        "It saves memory and makes your code faster and cleaner.\n",
        "\n",
        ">>Example: Add a scalar to an array\n",
        "\n",
        "import numpy as np\n",
        "\n",
        "arr = np.array([1, 2, 3])\n",
        "\n",
        "result = arr + 5\n",
        "\n",
        "print(result)\n",
        "\n",
        "\n",
        ">>Example: 2D and 1D arrays\n",
        "\n",
        "a = np.array([[1, 2, 3],\n",
        "              [4, 5, 6]])\n",
        "\n",
        "b = np.array([10, 20, 30])\n",
        "\n",
        "result = a + b"
      ],
      "metadata": {
        "id": "k6bouCyy9YOs"
      }
    },
    {
      "cell_type": "markdown",
      "source": [
        "# What is a Pandas DataFrame"
      ],
      "metadata": {
        "id": "ea53t9O--WJb"
      }
    },
    {
      "cell_type": "markdown",
      "source": [
        ">>A Pandas DataFrame is a 2D table-like data structure in Python — like a spreadsheet or SQL table — with rows and columns.\n",
        "\n",
        ">>Key Features:\n",
        "\n",
        "Labeled rows (index) and columns\n",
        "\n",
        "Supports mixed data types (numbers, text, etc.)\n",
        "\n",
        "Easy data cleaning, filtering, aggregation, and analysis\n",
        "\n",
        ">>Example:\n",
        "\n",
        "import pandas as pd\n",
        "\n",
        "data = {\n",
        "    'Name': ['Alice', 'Bob'],\n",
        "    'Age': [25, 30]\n",
        "}\n",
        "\n",
        "df = pd.DataFrame(data)\n",
        "\n",
        "In short:\n",
        "\n",
        "A DataFrame is the core tool for data analysis in Python."
      ],
      "metadata": {
        "id": "ecE4-PW4-dqx"
      }
    },
    {
      "cell_type": "markdown",
      "source": [
        "# A Explain the use of the groupby() method in Pandas"
      ],
      "metadata": {
        "id": "MyDPTbx6-y6U"
      }
    },
    {
      "cell_type": "markdown",
      "source": [
        ">>The groupby() method in Pandas is a powerful tool used to group rows based on column values, and then apply functions (like sum, mean, count, etc.) to each group.\n",
        "\n",
        ">>In Simple Terms:\n",
        "\n",
        "groupby() is like saying:\n",
        "\n",
        "“Group this data by X, then do Y to each group.”\n",
        "\n",
        "It’s especially useful when analyzing or summarizing large datasets.\n",
        "\n",
        ">>Example:\n",
        "\n",
        "import pandas as pd\n",
        "\n",
        "data = {\n",
        "    'Department': ['HR', 'IT', 'HR', 'IT', 'Sales'],\n",
        "    'Salary': [4000, 5000, 4200, 5500, 3000]\n",
        "}\n",
        "\n",
        "df = pd.DataFrame(data)\n",
        "\n",
        "# Group by department and calculate average salary\n",
        "result = df.groupby('Department')['Salary'].mean()\n",
        "\n",
        "print(result)\n",
        "\n",
        "✅ Output:\n",
        "\n",
        "Department\n",
        "\n",
        "HR       4100.0\n",
        "\n",
        "IT       5250.0\n",
        "\n",
        "Sales    3000.0\n"
      ],
      "metadata": {
        "id": "2p9x7dLO-3tc"
      }
    },
    {
      "cell_type": "markdown",
      "source": [
        "# Why is Seaborn preferred for statistical visualizations"
      ],
      "metadata": {
        "id": "q8-hQcsT_af6"
      }
    },
    {
      "cell_type": "markdown",
      "source": [
        "Seaborn is preferred for statistical visualizations in Python because it's built on top of Matplotlib, but adds easier syntax, prettier default styles, and powerful built-in support for data analysis.\n",
        "\n",
        ">>Why Seaborn is Preferred:\n",
        "\n",
        "1. Simpler Code for Complex Plots\n",
        "You can create advanced plots (like boxplots, violin plots, heatmaps) with one line of code.\n",
        "\n",
        "2. Built-in Support for Pandas\n",
        "Works seamlessly with DataFrames and column names — no need to extract arrays manually.\n",
        "\n",
        "3. Statistical Insights Built In\n",
        "Functions like:\n",
        "\n",
        "sns.histplot() → with KDE (distribution curve)\n",
        "\n",
        "sns.boxplot() → shows medians, quartiles, outliers\n",
        "\n",
        "sns.lmplot() → adds regression lines automatically\n",
        "\n",
        "4. Beautiful Default Styles\n",
        "Clean, professional plots out of the box — no extra styling needed.\n",
        "\n",
        "5. Multi-variable Visualization\n",
        "Easily map data to color (hue), size, style, and facets (e.g., col, row) in one go.\n",
        "\n",
        ">>Quick Example:\n",
        "\n",
        "import seaborn as sns\n",
        "\n",
        "import pandas as pd\n",
        "\n",
        "df = sns.load_dataset(\"tips\")\n",
        "\n",
        "sns.boxplot(x=\"day\", y=\"total_bill\", data=df, hue=\"sex\")\n"
      ],
      "metadata": {
        "id": "dAdnTO2z_g_P"
      }
    },
    {
      "cell_type": "markdown",
      "source": [
        "# What are the differences between NumPy arrays and Python lists"
      ],
      "metadata": {
        "id": "-R9qNogzAwIQ"
      }
    },
    {
      "cell_type": "markdown",
      "source": [
        "| Feature            | **NumPy Arrays**                                                 | **Python Lists**                   |\n",
        "| ------------------ | ---------------------------------------------------------------- | ---------------------------------- |\n",
        "| **Speed**          | Much faster (uses C under the hood)                              | Slower (pure Python)               |\n",
        "| **Memory**         | More memory efficient                                            | Uses more memory                   |\n",
        "| **Data Type**      | Homogeneous (all elements must be same type)                     | Heterogeneous (can mix types)      |\n",
        "| **Operations**     | Supports vectorized math (e.g., `a * 2`)                         | Requires loops for math operations |\n",
        "| **Functionality**  | Comes with tons of numerical tools (e.g., linear algebra, stats) | Very limited built-in tools        |\n",
        "| **Shape Handling** | Multi-dimensional (supports matrices, tensors)                   | 1D or nested lists                 |\n",
        "| **Broadcasting**   | Automatically expands shapes in math                             | No broadcasting support            |\n",
        "\n",
        "\n",
        ">>Example:\n",
        "\n",
        "Python List:\n",
        "\n",
        "lst = [1, 2, 3]\n",
        "\n",
        "result = [x * 2 for x in lst]  # Need a loop\n",
        "\n",
        ">>NumPy Array:\n",
        "\n",
        "import numpy as np\n",
        "\n",
        "arr = np.array([1, 2, 3])\n",
        "\n",
        "result = arr * 2  # Vectorized\n",
        "\n",
        ">>When to Use:\n",
        "\n",
        "Use Python lists for general-purpose programming.\n",
        "\n",
        "Use NumPy arrays when doing math, data analysis, machine learning, or scientific computing.\n",
        "\n",
        "\n"
      ],
      "metadata": {
        "id": "8g7S1g7-BAWA"
      }
    },
    {
      "cell_type": "markdown",
      "source": [
        "What is a heatmap, and when should it be used\n"
      ],
      "metadata": {
        "id": "bp62TG6aBe4e"
      }
    },
    {
      "cell_type": "markdown",
      "source": [
        ">>What Is a Heatmap?\n",
        "\n",
        "A heatmap shows how values change across two dimensions by using color intensity.\n",
        "\n",
        "Each cell in the heatmap corresponds to a pair of values (like row and column), and the color represents the magnitude of the data in that cell.\n",
        "\n",
        ">>Example Use Case:\n",
        "\n",
        "Let's say you have student scores across different subjects:\n",
        "\n",
        "Math\tScience\tEnglish\n",
        "\n",
        "Alice\t85\t90\t75\n",
        "\n",
        "Bob\t78\t60\t88\n",
        "\n",
        "Charlie\t92\t88\t80\n",
        "\n",
        "A heatmap would use darker/brighter colors to show higher scores and lighter/duller colors for lower scores.\n",
        "\n",
        ">>When to Use a Heatmap:\n",
        "\n",
        "✅ Use a heatmap when you want to:\n",
        "\n",
        "Visualize correlations between variables\n",
        "\n",
        "→ e.g. sns.heatmap(df.corr())\n",
        "\n",
        "Show patterns in large tables\n",
        "\n",
        "→ e.g. sales across regions and months\n",
        "\n",
        "Highlight outliers or clusters in data\n",
        "\n",
        "→ e.g. spotting anomalies in sensor data\n",
        "\n",
        "Compare intensity or magnitude in grid-like data\n",
        "\n",
        "→ e.g. confusion matrices in ML\n",
        "\n"
      ],
      "metadata": {
        "id": "SmU1A6LeBjcY"
      }
    },
    {
      "cell_type": "markdown",
      "source": [
        "# What does the term “vectorized operation” mean in NumPy"
      ],
      "metadata": {
        "id": "WeGUtc1oCFBJ"
      }
    },
    {
      "cell_type": "markdown",
      "source": [
        ">>What is a Vectorized Operation?\n",
        "\n",
        "A vectorized operation is when you apply an operation (like +, -, *, /) to an entire array at once, without writing loops.\n",
        "\n",
        "NumPy handles these operations internally in optimized C code, which makes them much faster and more efficient than regular Python loops.\n",
        "\n",
        ">>Example:\n",
        "\n",
        "🚫 Non-vectorized (using a loop):\n",
        "\n",
        "result = []\n",
        "\n",
        "for x in [1, 2, 3]:\n",
        "\n",
        "    result.append(x * 2)\n",
        "\n",
        "print(result)  # [2, 4, 6]\n",
        "\n",
        ">>Vectorized (NumPy):\n",
        "\n",
        "import numpy as np\n",
        "\n",
        "arr = np.array([1, 2, 3])\n",
        "\n",
        "result = arr * 2\n",
        "\n",
        "print(result)  # [2 4 6]\n",
        "\n",
        "No loops. Just clean, fast, and efficient code.\n",
        "\n",
        ">> Why Vectorization is Awesome:\n",
        "\n",
        "Feature\tBenefit\n",
        "\n",
        "Speed\tMuch faster than loops\n",
        "\n",
        "Clean code\tFewer lines, easier to read\n",
        "\n",
        "Memory efficient\tUses underlying C optimizations\n",
        "\n",
        "Safer\tReduces manual loop errors\n",
        "\n",
        "🔗 Common Vectorized Operations in NumPy:\n",
        "\n",
        "Arithmetic: +, -, *, /, **\n",
        "\n",
        "Comparison: >, <, ==\n",
        "\n",
        "Functions: np.sqrt(arr), np.exp(arr), np.mean(arr)\n",
        "\n",
        ">>In Short:\n",
        "\n",
        "Vectorized operations in NumPy let you write fast and elegant code that works on whole arrays at once — no loops needed.\n",
        "\n"
      ],
      "metadata": {
        "id": "ys6jbrV4CHSU"
      }
    },
    {
      "cell_type": "markdown",
      "source": [],
      "metadata": {
        "id": "x4ccl8qcv4Og"
      }
    },
    {
      "cell_type": "markdown",
      "source": [
        "#  How does Matplotlib differ from Plotly\n"
      ],
      "metadata": {
        "id": "iyGMVxWP8lD9"
      }
    },
    {
      "cell_type": "markdown",
      "source": [
        "| Feature                 | **Matplotlib**                          | **Plotly**                                        |\n",
        "| ----------------------- | --------------------------------------- | ------------------------------------------------- |\n",
        "| **Type of library**     | 2D plotting (with some 3D via toolkits) | Interactive, web-based plotting (2D and 3D)       |\n",
        "| **Interactivity**       | Mostly static (e.g. saved as PNG)       | Fully interactive (zoom, hover, pan, etc.)        |\n",
        "| **Customization**       | Very customizable, but code-heavy       | Customizable via arguments and JSON-like configs  |\n",
        "| **Ease of use**         | Steeper learning curve                  | Easier for interactive dashboards                 |\n",
        "| **Integration**         | Works well in Jupyter, scripts, GUIs    | Works well in Jupyter, Dash, and the web          |\n",
        "| **Output formats**      | PNG, SVG, PDF, etc.                     | HTML, web apps, or export static images           |\n",
        "| **Community & support** | Huge scientific & academic user base    | Growing fast, especially in business/data science |\n",
        "| **Installation size**   | Lightweight                             | Heavier due to web components                     |\n",
        "\n",
        "\n",
        ">>When Should You Use Each?\n",
        "\n",
        ">Use Matplotlib when:\n",
        "\n",
        "You’re doing scientific or academic plotting.\n",
        "\n",
        "You want total control over every plot element.\n",
        "\n",
        "You need simple static charts in a script or report.\n",
        "\n",
        ">Use Plotly when:\n",
        "\n",
        "You want interactive charts (e.g., zoom, tooltips).\n",
        "\n",
        "You’re building web dashboards or data apps.\n",
        "\n",
        "You want to impress stakeholders with modern visuals.\n"
      ],
      "metadata": {
        "id": "8_NsSiXGwQfd"
      }
    },
    {
      "cell_type": "markdown",
      "source": [
        "# A What is the significance of hierarchical indexing in Pandas"
      ],
      "metadata": {
        "id": "0dFdOG7qwzwq"
      }
    },
    {
      "cell_type": "markdown",
      "source": [
        "Hierarchical indexing in Pandas (also called MultiIndex) is like having a filing cabinet with folders inside folders — it lets you organize and access your data in multiple levels. It's super powerful when your dataset has more than one “dimension” of labels — like a table with regions and years, or products and stores.\n",
        "\n",
        ">>Let’s break it down:\n",
        "\n",
        ">>In Data Terms:\n",
        "\n",
        "Hierarchical indexing lets you use multiple index levels (rows or columns) in a Pandas DataFrame or Series.\n",
        "\n",
        ">>Why it matters:\n",
        "\n",
        "Organizes complex data naturally\n",
        "\n",
        "E.g. sales by Country > State > City\n",
        "\n",
        "Enables powerful slicing\n",
        "\n",
        "You can filter just New York in USA, or all cities in Germany.\n",
        "\n",
        "Improves reshaping\n",
        "\n",
        "Easy to pivot or unstack data into wide or long format.\n",
        "\n",
        "Handles panel-like data\n",
        "\n",
        "Simulates 3D data (like \"time-series for multiple companies\").\n",
        "\n"
      ],
      "metadata": {
        "id": "yFBbsddxw8bp"
      }
    },
    {
      "cell_type": "markdown",
      "source": [
        "# What is the role of Seaborn’s pairplot() function"
      ],
      "metadata": {
        "id": "YxlHT17qxYDe"
      }
    },
    {
      "cell_type": "markdown",
      "source": [
        "Seaborn’s pairplot() is like the Swiss Army knife for exploring relationships in a DataFrame — especially when you're working with lots of numeric variables and want to quickly spot patterns.\n",
        "\n",
        ">>What does pairplot() do?\n",
        "\n",
        "Seaborn’s pairplot():\n",
        "\n",
        "Plots pairwise relationships in a dataset (scatter plots for every combination of numerical variables)\n",
        "\n",
        "Shows distributions of each variable on the diagonals (using histograms or KDE plots)\n",
        "\n",
        "Optionally color-codes by category using the hue parameter (great for class labels!)\n",
        "\n",
        ">>Example\n",
        "\n",
        "import seaborn as sns\n",
        "import matplotlib.pyplot as plt\n",
        "\n",
        "# Load a built-in dataset\n",
        "df = sns.load_dataset(\"iris\")\n",
        "\n",
        "# Create the pairplot\n",
        "sns.pairplot(df, hue=\"species\")\n",
        "plt.show()\n"
      ],
      "metadata": {
        "id": "s9KfNsL3xg19"
      }
    },
    {
      "cell_type": "markdown",
      "source": [
        "# What is the purpose of the describe() function in Pandas"
      ],
      "metadata": {
        "id": "gNsXdx91yGq8"
      }
    },
    {
      "cell_type": "markdown",
      "source": [
        "describe() in Pandas is like a quick health checkup for your DataFrame. It gives you a summary of the most important statistics for each column, helping you understand your data's shape, spread, and quirks before you dive deeper.\n",
        "\n",
        "Imagine you just opened a bag of candy. You want to know:\n",
        "\n",
        "How many candies there are\n",
        "\n",
        "What the average size is\n",
        "\n",
        "What’s the smallest one?\n",
        "\n",
        "What’s the biggest one?\n",
        "\n",
        "How different they are from each other\n",
        "\n",
        "That’s exactly what describe() does — but for your data columns!\n",
        "\n",
        "hat describe() Tells You\n",
        "\n",
        ">>By default, it summarizes all numeric columns:\n",
        "\n",
        "import pandas as pd\n",
        "\n",
        "df = pd.DataFrame({\n",
        "  \n",
        "    'height': [150, 160, 165, 170, 155],\n",
        "    'weight': [55, 60, 65, 70, 58]\n",
        "})\n",
        "\n",
        "df.describe()"
      ],
      "metadata": {
        "id": "HihjhVNrySCX"
      }
    },
    {
      "cell_type": "markdown",
      "source": [
        "# Why is handling missing data important in Pandas"
      ],
      "metadata": {
        "id": "EFjSyGAly4mX"
      }
    },
    {
      "cell_type": "markdown",
      "source": [
        "Handling missing data in Pandas is crucial because bad or missing data = bad results. Whether you’re building a machine learning model, making a business decision, or just analyzing trends, unaddressed missing values can:\n",
        "\n",
        "skew your statistics\n",
        "\n",
        "crash your code\n",
        "\n",
        "or worse — lead you to the wrong conclusions\n",
        "\n",
        ">>What Happens if You Don’t Handle Missing Data?\n",
        "\n",
        "\n",
        "\n",
        "| Problem                       | Example                                                                 |\n",
        "| ----------------------------- | ----------------------------------------------------------------------- |\n",
        "| **Incorrect statistics**      | Mean, median, or correlations will be wrong if `NaN`s are ignored badly |\n",
        "| **Errors in computation**     | Some functions (like `.sum()` or models) may crash on `NaN`s            |\n",
        "| **Bias in models**            | ML algorithms might treat `NaN`s inconsistently or default to 0         |\n",
        "| **Inaccurate visualizations** | Charts may leave gaps, or misrepresent trends                           |\n"
      ],
      "metadata": {
        "id": "b24txfwC3MhL"
      }
    },
    {
      "cell_type": "markdown",
      "source": [
        "# How does NumPy handle multidimensional arrays"
      ],
      "metadata": {
        "id": "bu3hAtk-3m7C"
      }
    },
    {
      "cell_type": "markdown",
      "source": [
        "NumPy is like the engine room of Python’s data science stack, and its superpower is the efficient handling of multidimensional arrays — called ndarrays. If you've ever worked with Excel and wished it could do 3D or 4D spreadsheets lightning-fast, you're describing what NumPy arrays do.\n",
        "\n",
        ">>Let’s walk through it from kid-simple to code-savvy\n",
        "\n",
        "NumPy’s ndarray: The Core Data Structure\n",
        "ndarray = N-dimensional array.\n",
        "It can represent:\n",
        "\n",
        "Vectors (1D),\n",
        "\n",
        "Matrices (2D),\n",
        "\n",
        "Cubes, tensors, or even 10D arrays!\n",
        "\n",
        "📐 Example: Creating Multidimensional Arrays\n",
        "python\n",
        "Copy\n",
        "Edit\n",
        "import numpy as np\n",
        "\n",
        "# 1D array\n",
        "a = np.array([1, 2, 3])\n",
        "\n",
        "# 2D array\n",
        "b = np.array([[1, 2, 3],\n",
        "              [4, 5, 6]])\n",
        "\n",
        "# 3D array (2 matrices stacked)\n",
        "c = np.array([[[1, 2],\n",
        "               [3, 4]],\n",
        "              [[5, 6],\n",
        "               [7, 8]]])\n",
        ">>Key Properties of a NumPy Array\n",
        "\n",
        "print(c.shape)   # (2, 2, 2) → 2 blocks, each 2x2\n",
        "\n",
        "print(c.ndim)    # 3 → it’s a 3-dimensional array\n",
        "\n",
        "print(c.size)    # 8 → total number of elements\n",
        "\n",
        "print(c.dtype)   # data type of the elements\n",
        "\n",
        "\n"
      ],
      "metadata": {
        "id": "pwRVpfcs4kbt"
      }
    },
    {
      "cell_type": "markdown",
      "source": [
        "# What is the role of Bokeh in data visualization"
      ],
      "metadata": {
        "id": "XBdBffRV63YL"
      }
    },
    {
      "cell_type": "markdown",
      "source": [
        "Bokeh plays a key role in interactive data visualization in Python — especially for building web-ready visual dashboards and interactive plots with minimal JavaScript knowledge.\n",
        "\n",
        "If Matplotlib is a sketchpad and Plotly is a touchscreen whiteboard, Bokeh is your interactive canvas with built-in web tools. It’s built for developers and analysts who want to create dynamic, interactive, zoomable, and beautiful visualizations — right inside a browser.\n",
        "\n",
        ">>What Bokeh Does\n",
        "\n",
        "Bokeh turns your Python data into interactive HTML/JS plots, ready to:\n",
        "\n",
        "Zoom, pan, and hover\n",
        "\n",
        "Filter data in real-time\n",
        "\n",
        "Link plots together (e.g., brushing and linking)\n",
        "\n",
        "Be embedded in dashboards, web apps, or Jupyter notebooks\n",
        "\n"
      ],
      "metadata": {
        "id": "UiNwjHTv7I83"
      }
    },
    {
      "cell_type": "markdown",
      "source": [
        "#  Explain the difference between apply() and map() in Pandas"
      ],
      "metadata": {
        "id": "rekhZjYg9SRC"
      }
    },
    {
      "cell_type": "markdown",
      "source": [
        ">>Imagine you’re giving candy to kids in a classroom:\n",
        "\n",
        "map() is like giving one specific candy to each kid — it's designed for a single row of kids.\n",
        "\n",
        "apply() is like giving each classroom (or row/column) a different treatment, depending on what they need.\n",
        "\n",
        "| Feature           | `map()`                             | `apply()`                              |\n",
        "| ----------------- | ----------------------------------- | -------------------------------------- |\n",
        "| **Applies to**    | **Series only**                     | **Series or DataFrame**                |\n",
        "| **Use Case**      | Element-wise transformation         | Row-wise or column-wise operation      |\n",
        "| **Function Type** | Works with dicts, functions, Series | Works with functions (usually lambdas) |\n",
        "| **Common Use**    | Transform values in a single column | Apply functions across rows/columns    |\n",
        "\n",
        "\n",
        ">>Simple Examples\n",
        "\n",
        "Let’s say we have this DataFrame:\n",
        "\n",
        "import pandas as pd\n",
        "\n",
        "df = pd.DataFrame({\n",
        "\n",
        "    'name': ['alice', 'bob', 'carol'],\n",
        "    'score': [85, 90, 95]\n",
        "})\n",
        "\n",
        "🔹 map() — for element-wise ops on a single Series"
      ],
      "metadata": {
        "id": "C2UaZq589Yqy"
      }
    },
    {
      "cell_type": "markdown",
      "source": [
        "# What are some advanced features of NumPy"
      ],
      "metadata": {
        "id": "zA60Ss0598Tw"
      }
    },
    {
      "cell_type": "markdown",
      "source": [
        "Let’s go beyond the basics 🔥\n",
        "\n",
        ">.1. Broadcasting\n",
        "\n",
        "Broadcasting lets NumPy perform operations on arrays of different shapes without copying data.\n",
        "\n",
        "\n",
        "import numpy as np\n",
        "\n",
        "a = np.array([[1], [2], [3]])\n",
        "b = np.array([10, 20, 30])\n",
        "\n",
        "# Automatically broadcasts shapes (3,1) + (3,) → (3,3)\n",
        "result = a + b\n",
        "\n",
        "📌 Why it matters: Makes code cleaner and faster — no need for manual loops or reshaping.\n",
        "\n",
        ">>2. Vectorization & UFuncs\n",
        "\n",
        "Instead of looping through elements, use NumPy’s universal functions (ufuncs) which are fast, compiled C operations.\n",
        "\n",
        "a = np.array([1, 2, 3])\n",
        "\n",
        "np.exp(a)      # Applies exponential function to each element\n",
        "\n",
        "np.sqrt(a)     # Square root\n",
        "\n",
        "np.sin(a)      # Trigonometric functions\n",
        "\n",
        "💡 You can also create your own ufuncs with np.frompyfunc.\n",
        "\n",
        ">>3. Structured Arrays & Record Arrays\n",
        "\n",
        "Useful when dealing with tabular, mixed-type data (like small-scale Pandas).\n",
        "\n",
        "\n",
        "data = np.array([(1, 'Alice', 25), (2, 'Bob', 30)],\n",
        "\n",
        "                dtype=[('id', 'i4'), ('name', 'U10'), ('age', 'i4')])\n",
        "\n",
        "print(data['name'])  # Output: ['Alice' 'Bob']\n",
        "\n",
        "Enables column access, sorting, filtering by fields"
      ],
      "metadata": {
        "id": "ko_OfXY1-Jgy"
      }
    },
    {
      "cell_type": "markdown",
      "source": [
        "# How does Pandas simplify time series analysis"
      ],
      "metadata": {
        "id": "8euCHpqy-vbe"
      }
    },
    {
      "cell_type": "markdown",
      "source": [
        "Imagine you have a calendar full of events — some happen every day, some every month, some randomly. You want to:\n",
        "\n",
        "Find gaps in the schedule\n",
        "\n",
        "Count events per week\n",
        "\n",
        "Shift everything forward by a day\n",
        "\n",
        "Pandas is like a super-smart calendar assistant — it understands dates, frequencies, and how time flows. It helps you wrangle all of that with just a few lines of code.\n",
        "\n",
        ">>What Makes Time Series in Pandas Powerful?\n",
        "\n",
        "Here's what Pandas brings to the table:\n",
        "\n",
        "| Feature                | What It Does                                                              |\n",
        "| ---------------------- | ------------------------------------------------------------------------- |\n",
        "| **Date parsing**       | Automatically turns strings like `\"2023-07-24\"` into datetime objects     |\n",
        "| **Datetime index**     | Allows slicing by year/month/day just like regular labels                 |\n",
        "| **Frequency aliasing** | Handles daily (`'D'`), monthly (`'M'`), hourly (`'H'`), etc.              |\n",
        "| **Resampling**         | Aggregate up/down (e.g. daily → monthly, minute → hourly)                 |\n",
        "| **Time shifting**      | Shift data forward/backward in time (`.shift()`, `.tshift()`)             |\n",
        "| **Rolling windows**    | Moving averages, sums, and other sliding window ops                       |\n",
        "| **Period handling**    | Work with fixed periods like quarters or weeks (`pd.Period`)              |\n",
        "| **Timezone-aware**     | Localize and convert across timezones (`.tz_localize()`, `.tz_convert()`) |\n"
      ],
      "metadata": {
        "id": "77YssS_K-23C"
      }
    },
    {
      "cell_type": "markdown",
      "source": [
        "#  What is the role of a pivot table in Pandas"
      ],
      "metadata": {
        "id": "HPscXbd3_OfK"
      }
    },
    {
      "cell_type": "markdown",
      "source": [
        "A pivot table in Pandas is a quick way to summarize and reshape data — like a dynamic Excel table.\n",
        "\n",
        ">>In short:\n",
        "\n",
        "Groups data by one or more keys (index/columns)\n",
        "\n",
        "Applies aggregation (like sum, mean, count)\n",
        "\n",
        "Reshapes into a readable table\n",
        "\n",
        ">>Example:\n",
        "\n",
        "df.pivot_table(\n",
        "\n",
        "    index='region',\n",
        "    columns='product',\n",
        "    values='sales',\n",
        "    aggfunc='sum'\n",
        ")\n",
        ">>Use it to:\n",
        "\n",
        "Compare sales by region/product\n",
        "\n",
        "Create summaries by category and date\n",
        "\n",
        "Cleanly reshape messy datasets\n",
        "\n"
      ],
      "metadata": {
        "id": "EL-6AMSP_WHR"
      }
    },
    {
      "cell_type": "markdown",
      "source": [
        "# Why is NumPy’s array slicing faster than Python’s list slicing"
      ],
      "metadata": {
        "id": "JRe2raVlAGy2"
      }
    },
    {
      "cell_type": "markdown",
      "source": [
        ">>Imagine you're reading a book:\n",
        "\n",
        "A Python list is like a stack of sticky notes — you have to flip each one to find the page you want.\n",
        "\n",
        "A NumPy array is like a crisp PDF — you can instantly jump to any page because everything is neatly stored and indexed.\n",
        "\n",
        ">>TL;DR — Why NumPy is Faster at Slicing:\n",
        "\n",
        "| Feature              | Python List                | NumPy Array                           |\n",
        "| -------------------- | -------------------------- | ------------------------------------- |\n",
        "| **Memory layout**    | Elements are **pointers**  | Elements are in **contiguous memory** |\n",
        "| **Data type**        | Mixed (heterogeneous)      | Fixed type (homogeneous)              |\n",
        "| **Slicing behavior** | Creates a **new copy**     | Creates a **view** (no data copied)   |\n",
        "| **Speed**            | Slower (looping & copying) | Faster (vectorized & no copying)      |\n",
        "\n",
        "\n",
        ">>More Details\n",
        " NumPy arrays are:\n",
        "\n",
        "Homogeneous: all elements are the same data type (float64, int32, etc.)\n",
        "\n",
        "Stored in contiguous memory blocks (like in C)\n",
        "\n",
        "Accessed using low-level pointer arithmetic under the hood\n"
      ],
      "metadata": {
        "id": "8S8k0uMZ_red"
      }
    },
    {
      "cell_type": "markdown",
      "source": [
        "# What are some common use cases for Seaborn?"
      ],
      "metadata": {
        "id": "a0FMxOChAcfF"
      }
    },
    {
      "cell_type": "markdown",
      "source": [
        ">>Common Seaborn Use Cases:\n",
        "\n",
        "1. Exploratory Data Analysis (EDA)\n",
        "\n",
        "Quickly visualize patterns, trends, and outliers.\n",
        "\n",
        "2. Distribution Plots\n",
        "\n",
        "sns.histplot() – Histograms\n",
        "\n",
        "sns.kdeplot() – Smooth density curves\n",
        "\n",
        "3. Correlation & Heatmaps\n",
        "\n",
        "sns.heatmap() – Show relationships in correlation matrices\n",
        "\n",
        "4. Categorical Comparison\n",
        "\n",
        "sns.boxplot() – Compare distributions across categories\n",
        "\n",
        "sns.violinplot(), sns.barplot(), sns.stripplot()\n",
        "\n",
        "5. Pairwise Relationships\n",
        "\n",
        "sns.pairplot() – Scatterplots for all numerical variable pairs\n",
        "\n",
        "6. Regression Analysis\n",
        "\n",
        "sns.lmplot() and sns.regplot() – Line fitting + confidence intervals\n",
        "\n",
        "7. Time Series Visualization\n",
        "\n",
        "Line plots with sns.lineplot(), often with confidence bands\n",
        "\n",
        "8. Faceted Plots (Subplots by Category)\n",
        "\n",
        "sns.FacetGrid() – Small multiples for subgroups\n",
        "\n",
        ">>Why Use Seaborn?\n",
        "\n",
        "It makes beautiful, informative plots with less code than Matplotlib — and it integrates naturally with Pandas.\n",
        "\n"
      ],
      "metadata": {
        "id": "V9PEJXN7AysL"
      }
    },
    {
      "cell_type": "markdown",
      "source": [
        "# Practical question"
      ],
      "metadata": {
        "id": "S6IH-RvkBgYB"
      }
    },
    {
      "cell_type": "code",
      "execution_count": null,
      "metadata": {
        "id": "ypaeAug9-NZb"
      },
      "outputs": [],
      "source": [
        "#  How do you create a 2D NumPy array and calculate the sum of each row"
      ]
    },
    {
      "cell_type": "code",
      "source": [
        "import numpy as np"
      ],
      "metadata": {
        "id": "dTufA1sW-gJZ"
      },
      "execution_count": null,
      "outputs": []
    },
    {
      "cell_type": "code",
      "source": [
        "arr =np.array([[1,2,3,4],\n",
        "               [5,3,1,2],\n",
        "               [3,1,4,2]\n",
        "])\n",
        "print(arr)\n"
      ],
      "metadata": {
        "colab": {
          "base_uri": "https://localhost:8080/"
        },
        "id": "rAQ44M1g-q1O",
        "outputId": "0a567116-634e-429e-b076-ef212e9ad36d"
      },
      "execution_count": null,
      "outputs": [
        {
          "output_type": "stream",
          "name": "stdout",
          "text": [
            "[[1 2 3 4]\n",
            " [5 3 1 2]\n",
            " [3 1 4 2]]\n"
          ]
        }
      ]
    },
    {
      "cell_type": "code",
      "source": [
        "row_sum = np.sum(arr , axis = 1)\n",
        "print(row_sum)"
      ],
      "metadata": {
        "colab": {
          "base_uri": "https://localhost:8080/"
        },
        "id": "vLLrPuCmLygR",
        "outputId": "42098b11-f4f5-4a22-8093-3bfe8d3730e9"
      },
      "execution_count": null,
      "outputs": [
        {
          "output_type": "stream",
          "name": "stdout",
          "text": [
            "[10 11 10]\n"
          ]
        }
      ]
    },
    {
      "cell_type": "code",
      "source": [
        "# Write a Pandas script to find the mean of a specific column in a DataFrame"
      ],
      "metadata": {
        "id": "In0cK2h3NFLx"
      },
      "execution_count": null,
      "outputs": []
    },
    {
      "cell_type": "code",
      "source": [
        "! pip install pandas"
      ],
      "metadata": {
        "colab": {
          "base_uri": "https://localhost:8080/"
        },
        "id": "4_QlwnQ2P3hY",
        "outputId": "2b5c85a4-be9c-46e3-d239-3d550edfd6c1"
      },
      "execution_count": null,
      "outputs": [
        {
          "output_type": "stream",
          "name": "stdout",
          "text": [
            "Requirement already satisfied: pandas in /usr/local/lib/python3.11/dist-packages (2.2.2)\n",
            "Requirement already satisfied: numpy>=1.23.2 in /usr/local/lib/python3.11/dist-packages (from pandas) (2.0.2)\n",
            "Requirement already satisfied: python-dateutil>=2.8.2 in /usr/local/lib/python3.11/dist-packages (from pandas) (2.9.0.post0)\n",
            "Requirement already satisfied: pytz>=2020.1 in /usr/local/lib/python3.11/dist-packages (from pandas) (2025.2)\n",
            "Requirement already satisfied: tzdata>=2022.7 in /usr/local/lib/python3.11/dist-packages (from pandas) (2025.2)\n",
            "Requirement already satisfied: six>=1.5 in /usr/local/lib/python3.11/dist-packages (from python-dateutil>=2.8.2->pandas) (1.17.0)\n"
          ]
        }
      ]
    },
    {
      "cell_type": "code",
      "source": [
        "import pandas as pd"
      ],
      "metadata": {
        "id": "W_zVHgqVRzRm"
      },
      "execution_count": null,
      "outputs": []
    },
    {
      "cell_type": "code",
      "source": [
        "data = {\n",
        "    \"Name\" : [\"Anu\" , \"Ajay\" , \"Raj\"],\n",
        "    \"Age\" : [ 20, 23, 24],\n",
        "    \"Score\": [80, 79, 85]\n",
        "}\n",
        "df = pd.DataFrame(data)\n",
        "\n",
        "mean_score = df['Score'].mean()\n",
        "print(mean_score)"
      ],
      "metadata": {
        "colab": {
          "base_uri": "https://localhost:8080/"
        },
        "id": "qE9UZZfwTpBl",
        "outputId": "65e78344-12d2-49ba-eae9-b30494ad0f79"
      },
      "execution_count": null,
      "outputs": [
        {
          "output_type": "stream",
          "name": "stdout",
          "text": [
            "81.33333333333333\n"
          ]
        }
      ]
    },
    {
      "cell_type": "code",
      "source": [
        "# Create a scatter plot using MatplotlibA"
      ],
      "metadata": {
        "id": "YqNxHzNbjyQB"
      },
      "execution_count": null,
      "outputs": []
    },
    {
      "cell_type": "code",
      "source": [
        "import matplotlib.pyplot as plt\n",
        "\n",
        "x = [1,2,3,4]\n",
        "y = [4,5,6,7]\n",
        "\n",
        "plt.scatter(x , y , color='blue', marker='o',label='sample point')\n",
        "plt.title('scatter plot')\n",
        "plt.xlabel('X Axis')\n",
        "plt.ylabel('Y Axis')\n",
        "\n",
        "plt.legend()\n",
        "plt.show()"
      ],
      "metadata": {
        "colab": {
          "base_uri": "https://localhost:8080/",
          "height": 472
        },
        "id": "rGIggYyYkB0t",
        "outputId": "f1666d53-7085-4a27-d726-b644c6651e1e"
      },
      "execution_count": null,
      "outputs": [
        {
          "output_type": "display_data",
          "data": {
            "text/plain": [
              "<Figure size 640x480 with 1 Axes>"
            ],
            "image/png": "[encoded data removed]"
          },
          "metadata": {}
        }
      ]
    },
    {
      "cell_type": "code",
      "source": [
        "# How do you calculate the correlation matrix using Seaborn and visualize it with a heatmap"
      ],
      "metadata": {
        "id": "he581RHGoUS6"
      },
      "execution_count": null,
      "outputs": []
    },
    {
      "cell_type": "code",
      "source": [
        "import pandas as pd\n",
        "import seaborn as sns\n",
        "import matplotlib.pyplot as plt\n",
        "\n",
        "\n",
        "data = {\n",
        "    'Maths' : [80, 90, 88],\n",
        "    'English':[88, 80, 89],\n",
        "    'Science':[89, 87, 89],\n",
        "    'computer':[90, 89, 77]\n",
        "}\n",
        "\n",
        "df = pd.DataFrame(data)\n",
        "df\n",
        "\n",
        "corr_matrix = df.corr()\n",
        "print(corr_matrix)\n",
        "\n",
        "plt.figure(figsize=(10, 8))\n",
        "sns.heatmap(corr_matrix,annot=True ,cmap='Greens', vmin=-1, vmax=1, linewidths=0.5, square=True)\n",
        "plt.title('Correlation using seaborn with Heatmap')\n",
        "plt.xlabel('X axis')\n",
        "plt.ylabel('Y axis')\n",
        "\n",
        "plt.legend()\n",
        "plt.show()\n",
        "\n"
      ],
      "metadata": {
        "colab": {
          "base_uri": "https://localhost:8080/",
          "height": 859
        },
        "id": "m79RUwcSuzK4",
        "outputId": "18306a80-7756-46ab-8f42-c02db70ae6e6"
      },
      "execution_count": null,
      "outputs": [
        {
          "output_type": "stream",
          "name": "stdout",
          "text": [
            "             Maths   English   Science  computer\n",
            "Maths     1.000000 -0.574661 -0.654654 -0.391853\n",
            "English  -0.574661  1.000000  0.994850 -0.527761\n",
            "Science  -0.654654  0.994850  1.000000 -0.438948\n",
            "computer -0.391853 -0.527761 -0.438948  1.000000\n"
          ]
        },
        {
          "output_type": "stream",
          "name": "stderr",
          "text": [
            "/tmp/ipython-input-42-4258800506.py:25: UserWarning: No artists with labels found to put in legend.  Note that artists whose label start with an underscore are ignored when legend() is called with no argument.\n",
            "  plt.legend()\n"
          ]
        },
        {
          "output_type": "display_data",
          "data": {
            "text/plain": [
              "<Figure size 1000x800 with 2 Axes>"
            ],
            "image/png": "[encoded data removed]"
          },
          "metadata": {}
        }
      ]
    },
    {
      "cell_type": "code",
      "source": [
        "# Generate a bar plot using Plotly"
      ],
      "metadata": {
        "id": "Ws2lLhCcxytP"
      },
      "execution_count": null,
      "outputs": []
    },
    {
      "cell_type": "code",
      "source": [
        "import plotly.express as px\n",
        "\n",
        "data = {\n",
        "    'Fruits' : ['apple','bnana', 'grapes', 'mango', 'watermelon'],\n",
        "    'sales' : [70 ,89, 50, 88, 48 ]\n",
        "}\n",
        "\n",
        "fig = px.bar(data, x='Fruits', y='sales' , color_discrete_sequence = ['pink'], title = 'fruit sales')\n",
        "\n",
        "fig.show()\n"
      ],
      "metadata": {
        "id": "ZjgBka26_q7c",
        "colab": {
          "base_uri": "https://localhost:8080/",
          "height": 542
        },
        "outputId": "01cedddc-5c98-4ed6-fa5e-029063ae8962"
      },
      "execution_count": null,
      "outputs": [
        {
          "output_type": "display_data",
          "data": {
            "text/html": [
              "<html>\n",
              "<head><meta charset=\"utf-8\" /></head>\n",
              "<body>\n",
              "    <div>            <script src=\"https://cdnjs.cloudflare.com/ajax/libs/mathjax/2.7.5/MathJax.js?config=TeX-AMS-MML_SVG\"></script><script type=\"text/javascript\">if (window.MathJax && window.MathJax.Hub && window.MathJax.Hub.Config) {window.MathJax.Hub.Config({SVG: {font: \"STIX-Web\"}});}</script>                <script type=\"text/javascript\">window.PlotlyConfig = {MathJaxConfig: 'local'};</script>\n",
              "        <script charset=\"utf-8\" src=\"https://cdn.plot.ly/plotly-2.35.2.min.js\"></script>                <div id=\"63c28cb9-6ad4-46a5-b6b4-f81e40c2298f\" class=\"plotly-graph-div\" style=\"height:525px; width:100%;\"></div>            <script type=\"text/javascript\">                                    window.PLOTLYENV=window.PLOTLYENV || {};                                    if (document.getElementById(\"63c28cb9-6ad4-46a5-b6b4-f81e40c2298f\")) {                    Plotly.newPlot(                        \"63c28cb9-6ad4-46a5-b6b4-f81e40c2298f\",                        [{\"alignmentgroup\":\"True\",\"hovertemplate\":\"Fruits=%{x}\\u003cbr\\u003esales=%{y}\\u003cextra\\u003e\\u003c\\u002fextra\\u003e\",\"legendgroup\":\"\",\"marker\":{\"color\":\"pink\",\"pattern\":{\"shape\":\"\"}},\"name\":\"\",\"offsetgroup\":\"\",\"orientation\":\"v\",\"showlegend\":false,\"textposition\":\"auto\",\"x\":[\"apple\",\"bnana\",\"grapes\",\"mango\",\"watermelon\"],\"xaxis\":\"x\",\"y\":[70,89,50,88,48],\"yaxis\":\"y\",\"type\":\"bar\"}],                        {\"template\":{\"data\":{\"histogram2dcontour\":[{\"type\":\"histogram2dcontour\",\"colorbar\":{\"outlinewidth\":0,\"ticks\":\"\"},\"colorscale\":[[0.0,\"#0d0887\"],[0.1111111111111111,\"#46039f\"],[0.2222222222222222,\"#7201a8\"],[0.3333333333333333,\"#9c179e\"],[0.4444444444444444,\"#bd3786\"],[0.5555555555555556,\"#d8576b\"],[0.6666666666666666,\"#ed7953\"],[0.7777777777777778,\"#fb9f3a\"],[0.8888888888888888,\"#fdca26\"],[1.0,\"#f0f921\"]]}],\"choropleth\":[{\"type\":\"choropleth\",\"colorbar\":{\"outlinewidth\":0,\"ticks\":\"\"}}],\"histogram2d\":[{\"type\":\"histogram2d\",\"colorbar\":{\"outlinewidth\":0,\"ticks\":\"\"},\"colorscale\":[[0.0,\"#0d0887\"],[0.1111111111111111,\"#46039f\"],[0.2222222222222222,\"#7201a8\"],[0.3333333333333333,\"#9c179e\"],[0.4444444444444444,\"#bd3786\"],[0.5555555555555556,\"#d8576b\"],[0.6666666666666666,\"#ed7953\"],[0.7777777777777778,\"#fb9f3a\"],[0.8888888888888888,\"#fdca26\"],[1.0,\"#f0f921\"]]}],\"heatmap\":[{\"type\":\"heatmap\",\"colorbar\":{\"outlinewidth\":0,\"ticks\":\"\"},\"colorscale\":[[0.0,\"#0d0887\"],[0.1111111111111111,\"#46039f\"],[0.2222222222222222,\"#7201a8\"],[0.3333333333333333,\"#9c179e\"],[0.4444444444444444,\"#bd3786\"],[0.5555555555555556,\"#d8576b\"],[0.6666666666666666,\"#ed7953\"],[0.7777777777777778,\"#fb9f3a\"],[0.8888888888888888,\"#fdca26\"],[1.0,\"#f0f921\"]]}],\"heatmapgl\":[{\"type\":\"heatmapgl\",\"colorbar\":{\"outlinewidth\":0,\"ticks\":\"\"},\"colorscale\":[[0.0,\"#0d0887\"],[0.1111111111111111,\"#46039f\"],[0.2222222222222222,\"#7201a8\"],[0.3333333333333333,\"#9c179e\"],[0.4444444444444444,\"#bd3786\"],[0.5555555555555556,\"#d8576b\"],[0.6666666666666666,\"#ed7953\"],[0.7777777777777778,\"#fb9f3a\"],[0.8888888888888888,\"#fdca26\"],[1.0,\"#f0f921\"]]}],\"contourcarpet\":[{\"type\":\"contourcarpet\",\"colorbar\":{\"outlinewidth\":0,\"ticks\":\"\"}}],\"contour\":[{\"type\":\"contour\",\"colorbar\":{\"outlinewidth\":0,\"ticks\":\"\"},\"colorscale\":[[0.0,\"#0d0887\"],[0.1111111111111111,\"#46039f\"],[0.2222222222222222,\"#7201a8\"],[0.3333333333333333,\"#9c179e\"],[0.4444444444444444,\"#bd3786\"],[0.5555555555555556,\"#d8576b\"],[0.6666666666666666,\"#ed7953\"],[0.7777777777777778,\"#fb9f3a\"],[0.8888888888888888,\"#fdca26\"],[1.0,\"#f0f921\"]]}],\"surface\":[{\"type\":\"surface\",\"colorbar\":{\"outlinewidth\":0,\"ticks\":\"\"},\"colorscale\":[[0.0,\"#0d0887\"],[0.1111111111111111,\"#46039f\"],[0.2222222222222222,\"#7201a8\"],[0.3333333333333333,\"#9c179e\"],[0.4444444444444444,\"#bd3786\"],[0.5555555555555556,\"#d8576b\"],[0.6666666666666666,\"#ed7953\"],[0.7777777777777778,\"#fb9f3a\"],[0.8888888888888888,\"#fdca26\"],[1.0,\"#f0f921\"]]}],\"mesh3d\":[{\"type\":\"mesh3d\",\"colorbar\":{\"outlinewidth\":0,\"ticks\":\"\"}}],\"scatter\":[{\"fillpattern\":{\"fillmode\":\"overlay\",\"size\":10,\"solidity\":0.2},\"type\":\"scatter\"}],\"parcoords\":[{\"type\":\"parcoords\",\"line\":{\"colorbar\":{\"outlinewidth\":0,\"ticks\":\"\"}}}],\"scatterpolargl\":[{\"type\":\"scatterpolargl\",\"marker\":{\"colorbar\":{\"outlinewidth\":0,\"ticks\":\"\"}}}],\"bar\":[{\"error_x\":{\"color\":\"#2a3f5f\"},\"error_y\":{\"color\":\"#2a3f5f\"},\"marker\":{\"line\":{\"color\":\"#E5ECF6\",\"width\":0.5},\"pattern\":{\"fillmode\":\"overlay\",\"size\":10,\"solidity\":0.2}},\"type\":\"bar\"}],\"scattergeo\":[{\"type\":\"scattergeo\",\"marker\":{\"colorbar\":{\"outlinewidth\":0,\"ticks\":\"\"}}}],\"scatterpolar\":[{\"type\":\"scatterpolar\",\"marker\":{\"colorbar\":{\"outlinewidth\":0,\"ticks\":\"\"}}}],\"histogram\":[{\"marker\":{\"pattern\":{\"fillmode\":\"overlay\",\"size\":10,\"solidity\":0.2}},\"type\":\"histogram\"}],\"scattergl\":[{\"type\":\"scattergl\",\"marker\":{\"colorbar\":{\"outlinewidth\":0,\"ticks\":\"\"}}}],\"scatter3d\":[{\"type\":\"scatter3d\",\"line\":{\"colorbar\":{\"outlinewidth\":0,\"ticks\":\"\"}},\"marker\":{\"colorbar\":{\"outlinewidth\":0,\"ticks\":\"\"}}}],\"scattermapbox\":[{\"type\":\"scattermapbox\",\"marker\":{\"colorbar\":{\"outlinewidth\":0,\"ticks\":\"\"}}}],\"scatterternary\":[{\"type\":\"scatterternary\",\"marker\":{\"colorbar\":{\"outlinewidth\":0,\"ticks\":\"\"}}}],\"scattercarpet\":[{\"type\":\"scattercarpet\",\"marker\":{\"colorbar\":{\"outlinewidth\":0,\"ticks\":\"\"}}}],\"carpet\":[{\"aaxis\":{\"endlinecolor\":\"#2a3f5f\",\"gridcolor\":\"white\",\"linecolor\":\"white\",\"minorgridcolor\":\"white\",\"startlinecolor\":\"#2a3f5f\"},\"baxis\":{\"endlinecolor\":\"#2a3f5f\",\"gridcolor\":\"white\",\"linecolor\":\"white\",\"minorgridcolor\":\"white\",\"startlinecolor\":\"#2a3f5f\"},\"type\":\"carpet\"}],\"table\":[{\"cells\":{\"fill\":{\"color\":\"#EBF0F8\"},\"line\":{\"color\":\"white\"}},\"header\":{\"fill\":{\"color\":\"#C8D4E3\"},\"line\":{\"color\":\"white\"}},\"type\":\"table\"}],\"barpolar\":[{\"marker\":{\"line\":{\"color\":\"#E5ECF6\",\"width\":0.5},\"pattern\":{\"fillmode\":\"overlay\",\"size\":10,\"solidity\":0.2}},\"type\":\"barpolar\"}],\"pie\":[{\"automargin\":true,\"type\":\"pie\"}]},\"layout\":{\"autotypenumbers\":\"strict\",\"colorway\":[\"#636efa\",\"#EF553B\",\"#00cc96\",\"#ab63fa\",\"#FFA15A\",\"#19d3f3\",\"#FF6692\",\"#B6E880\",\"#FF97FF\",\"#FECB52\"],\"font\":{\"color\":\"#2a3f5f\"},\"hovermode\":\"closest\",\"hoverlabel\":{\"align\":\"left\"},\"paper_bgcolor\":\"white\",\"plot_bgcolor\":\"#E5ECF6\",\"polar\":{\"bgcolor\":\"#E5ECF6\",\"angularaxis\":{\"gridcolor\":\"white\",\"linecolor\":\"white\",\"ticks\":\"\"},\"radialaxis\":{\"gridcolor\":\"white\",\"linecolor\":\"white\",\"ticks\":\"\"}},\"ternary\":{\"bgcolor\":\"#E5ECF6\",\"aaxis\":{\"gridcolor\":\"white\",\"linecolor\":\"white\",\"ticks\":\"\"},\"baxis\":{\"gridcolor\":\"white\",\"linecolor\":\"white\",\"ticks\":\"\"},\"caxis\":{\"gridcolor\":\"white\",\"linecolor\":\"white\",\"ticks\":\"\"}},\"coloraxis\":{\"colorbar\":{\"outlinewidth\":0,\"ticks\":\"\"}},\"colorscale\":{\"sequential\":[[0.0,\"#0d0887\"],[0.1111111111111111,\"#46039f\"],[0.2222222222222222,\"#7201a8\"],[0.3333333333333333,\"#9c179e\"],[0.4444444444444444,\"#bd3786\"],[0.5555555555555556,\"#d8576b\"],[0.6666666666666666,\"#ed7953\"],[0.7777777777777778,\"#fb9f3a\"],[0.8888888888888888,\"#fdca26\"],[1.0,\"#f0f921\"]],\"sequentialminus\":[[0.0,\"#0d0887\"],[0.1111111111111111,\"#46039f\"],[0.2222222222222222,\"#7201a8\"],[0.3333333333333333,\"#9c179e\"],[0.4444444444444444,\"#bd3786\"],[0.5555555555555556,\"#d8576b\"],[0.6666666666666666,\"#ed7953\"],[0.7777777777777778,\"#fb9f3a\"],[0.8888888888888888,\"#fdca26\"],[1.0,\"#f0f921\"]],\"diverging\":[[0,\"#8e0152\"],[0.1,\"#c51b7d\"],[0.2,\"#de77ae\"],[0.3,\"#f1b6da\"],[0.4,\"#fde0ef\"],[0.5,\"#f7f7f7\"],[0.6,\"#e6f5d0\"],[0.7,\"#b8e186\"],[0.8,\"#7fbc41\"],[0.9,\"#4d9221\"],[1,\"#276419\"]]},\"xaxis\":{\"gridcolor\":\"white\",\"linecolor\":\"white\",\"ticks\":\"\",\"title\":{\"standoff\":15},\"zerolinecolor\":\"white\",\"automargin\":true,\"zerolinewidth\":2},\"yaxis\":{\"gridcolor\":\"white\",\"linecolor\":\"white\",\"ticks\":\"\",\"title\":{\"standoff\":15},\"zerolinecolor\":\"white\",\"automargin\":true,\"zerolinewidth\":2},\"scene\":{\"xaxis\":{\"backgroundcolor\":\"#E5ECF6\",\"gridcolor\":\"white\",\"linecolor\":\"white\",\"showbackground\":true,\"ticks\":\"\",\"zerolinecolor\":\"white\",\"gridwidth\":2},\"yaxis\":{\"backgroundcolor\":\"#E5ECF6\",\"gridcolor\":\"white\",\"linecolor\":\"white\",\"showbackground\":true,\"ticks\":\"\",\"zerolinecolor\":\"white\",\"gridwidth\":2},\"zaxis\":{\"backgroundcolor\":\"#E5ECF6\",\"gridcolor\":\"white\",\"linecolor\":\"white\",\"showbackground\":true,\"ticks\":\"\",\"zerolinecolor\":\"white\",\"gridwidth\":2}},\"shapedefaults\":{\"line\":{\"color\":\"#2a3f5f\"}},\"annotationdefaults\":{\"arrowcolor\":\"#2a3f5f\",\"arrowhead\":0,\"arrowwidth\":1},\"geo\":{\"bgcolor\":\"white\",\"landcolor\":\"#E5ECF6\",\"subunitcolor\":\"white\",\"showland\":true,\"showlakes\":true,\"lakecolor\":\"white\"},\"title\":{\"x\":0.05},\"mapbox\":{\"style\":\"light\"}}},\"xaxis\":{\"anchor\":\"y\",\"domain\":[0.0,1.0],\"title\":{\"text\":\"Fruits\"}},\"yaxis\":{\"anchor\":\"x\",\"domain\":[0.0,1.0],\"title\":{\"text\":\"sales\"}},\"legend\":{\"tracegroupgap\":0},\"title\":{\"text\":\"fruit sales\"},\"barmode\":\"relative\"},                        {\"responsive\": true}                    ).then(function(){\n",
              "                            \n",
              "var gd = document.getElementById('63c28cb9-6ad4-46a5-b6b4-f81e40c2298f');\n",
              "var x = new MutationObserver(function (mutations, observer) {{\n",
              "        var display = window.getComputedStyle(gd).display;\n",
              "        if (!display || display === 'none') {{\n",
              "            console.log([gd, 'removed!']);\n",
              "            Plotly.purge(gd);\n",
              "            observer.disconnect();\n",
              "        }}\n",
              "}});\n",
              "\n",
              "// Listen for the removal of the full notebook cells\n",
              "var notebookContainer = gd.closest('#notebook-container');\n",
              "if (notebookContainer) {{\n",
              "    x.observe(notebookContainer, {childList: true});\n",
              "}}\n",
              "\n",
              "// Listen for the clearing of the current output cell\n",
              "var outputEl = gd.closest('.output');\n",
              "if (outputEl) {{\n",
              "    x.observe(outputEl, {childList: true});\n",
              "}}\n",
              "\n",
              "                        })                };                            </script>        </div>\n",
              "</body>\n",
              "</html>"
            ]
          },
          "metadata": {}
        }
      ]
    },
    {
      "cell_type": "code",
      "source": [
        "# Create a DataFrame and add a new column based on an existing column"
      ],
      "metadata": {
        "id": "AhlNZXPHPqUd"
      },
      "execution_count": null,
      "outputs": []
    },
    {
      "cell_type": "code",
      "source": [
        "import pandas as pd\n",
        "\n",
        "df = pd.DataFrame({\n",
        "    'chocolate' : ['kitkat', 'dairy milk', 'amul dark chocolate', 'dairy milk silk'],\n",
        "    'sales'     : [60, 56, 67, 50]\n",
        "})\n",
        "\n",
        "df['MRP']=[25.00, 32.00, 45.00, 35.00]\n",
        "\n",
        "print(df)"
      ],
      "metadata": {
        "colab": {
          "base_uri": "https://localhost:8080/"
        },
        "id": "m7d5-saOSfG2",
        "outputId": "efdb777f-8d49-48c6-c7da-04779151abd9"
      },
      "execution_count": null,
      "outputs": [
        {
          "output_type": "stream",
          "name": "stdout",
          "text": [
            "             chocolate  sales   MRP\n",
            "0               kitkat     60  25.0\n",
            "1           dairy milk     56  32.0\n",
            "2  amul dark chocolate     67  45.0\n",
            "3      dairy milk silk     50  35.0\n"
          ]
        }
      ]
    },
    {
      "cell_type": "code",
      "source": [
        "# Write a program to perform element-wise multiplication of two NumPy arrays"
      ],
      "metadata": {
        "id": "IJrVFnkrWAmj"
      },
      "execution_count": null,
      "outputs": []
    },
    {
      "cell_type": "code",
      "source": [
        "import numpy as np\n",
        "\n",
        "np1 = np.array([1, 2])\n",
        "np2 = np.array([2, 3])\n",
        "\n",
        "np3 = np1 * np2\n",
        "\n",
        "print(np3)\n"
      ],
      "metadata": {
        "colab": {
          "base_uri": "https://localhost:8080/"
        },
        "id": "x1pCu6bCWs2x",
        "outputId": "096ae1f9-e3fd-4d78-9df4-74b15ff89236"
      },
      "execution_count": null,
      "outputs": [
        {
          "output_type": "stream",
          "name": "stdout",
          "text": [
            "[2 6]\n"
          ]
        }
      ]
    },
    {
      "cell_type": "code",
      "source": [
        "# Create a line plot with multiple lines using Matplotlib"
      ],
      "metadata": {
        "id": "slokNHYSYyS_"
      },
      "execution_count": null,
      "outputs": []
    },
    {
      "cell_type": "code",
      "source": [
        "import matplotlib.pyplot as plt\n",
        "import pandas as pd\n",
        "\n",
        "\n",
        "data = {\n",
        "         'Name' : ['Anu', 'Ajay', 'Navin', 'Raj', 'Satish', 'Priyam', 'Priya', 'kiran', 'supriya'],\n",
        "         'Marks' : [89, 86, 89, 78, 84, 79, 67, 78, 86]\n",
        "}\n",
        "\n",
        "df = pd.DataFrame(data)\n",
        "\n",
        "plt.figure(figsize=(8 , 6))\n",
        "\n",
        "plt.title('Students Marks graph')\n",
        "plt.xlabel('Name')\n",
        "plt.ylabel('Marks')\n",
        "plt.plot(df['Name'], df['Marks'], marker='o', linestyle='-', color='yellow', label='Marks')\n",
        "plt.legend()\n",
        "plt.xticks(rotation=45)\n",
        "plt.tight_layout()\n",
        "plt.show()"
      ],
      "metadata": {
        "colab": {
          "base_uri": "https://localhost:8080/",
          "height": 607
        },
        "id": "ZBluipfBaSg1",
        "outputId": "d0290f2e-9754-4b96-e13c-9e000764e2c2"
      },
      "execution_count": null,
      "outputs": [
        {
          "output_type": "display_data",
          "data": {
            "text/plain": [
              "<Figure size 800x600 with 1 Axes>"
            ],
            "image/png": "[encoded data removed]"
          },
          "metadata": {}
        }
      ]
    },
    {
      "cell_type": "code",
      "source": [
        "# Generate a Pandas DataFrame and filter rows where a column value is greater than a threshold"
      ],
      "metadata": {
        "id": "bhzS07uRgvmZ"
      },
      "execution_count": null,
      "outputs": []
    },
    {
      "cell_type": "code",
      "source": [
        "import pandas as pd\n",
        "\n",
        "data = {\n",
        "         'Name' : ['Anu', 'Ajay', 'Navin', 'Raj', 'Satish', 'Priyam', 'Priya', 'kiran', 'supriya'],\n",
        "         'Marks' : [89, 86, 89, 78, 84, 79, 67, 78, 76]\n",
        "}\n",
        "\n",
        "df = pd.DataFrame(data)\n",
        "\n",
        "filtered_df = df[df['Marks'] > 85]\n",
        "\n",
        "print(filtered_df)"
      ],
      "metadata": {
        "colab": {
          "base_uri": "https://localhost:8080/"
        },
        "id": "SRDY6jpan2zr",
        "outputId": "dfc3ab17-0484-4719-c316-8b951fae70ad"
      },
      "execution_count": null,
      "outputs": [
        {
          "output_type": "stream",
          "name": "stdout",
          "text": [
            "    Name  Marks\n",
            "0    Anu     89\n",
            "1   Ajay     86\n",
            "2  Navin     89\n"
          ]
        }
      ]
    },
    {
      "cell_type": "code",
      "source": [
        "# Create a histogram using Seaborn to visualize a distribution"
      ],
      "metadata": {
        "id": "PMVST1MvqpJo"
      },
      "execution_count": null,
      "outputs": []
    },
    {
      "cell_type": "code",
      "source": [
        "import pandas as pd\n",
        "import seaborn as sns\n",
        "import matplotlib.pyplot as plt\n",
        "\n",
        "\n",
        "data = {\n",
        "        'Marks' : [45, 67, 89, 56, 90, 74, 62, 88, 77, 69, 80, 55, 60, 73, 95]\n",
        "}\n",
        "\n",
        "df = pd.DataFrame(data)\n",
        "\n",
        "plt.figure(figsize=(8,6))\n",
        "sns.histplot(df['Marks'], bins=5, kde=True, color = 'purple')\n",
        "plt.title(' histogram of marks')\n",
        "plt.xlabel('Marks')\n",
        "plt.ylabel('number of student')\n",
        "plt.show()"
      ],
      "metadata": {
        "colab": {
          "base_uri": "https://localhost:8080/",
          "height": 564
        },
        "id": "DltdjpytrLwk",
        "outputId": "341cc33b-85af-4750-9236-6c41349112de"
      },
      "execution_count": null,
      "outputs": [
        {
          "output_type": "display_data",
          "data": {
            "text/plain": [
              "<Figure size 800x600 with 1 Axes>"
            ],
            "image/png": "[encoded data removed]"
          },
          "metadata": {}
        }
      ]
    },
    {
      "cell_type": "code",
      "source": [
        "# Perform matrix multiplication using NumPy"
      ],
      "metadata": {
        "id": "daPgLfPKu7H0"
      },
      "execution_count": null,
      "outputs": []
    },
    {
      "cell_type": "code",
      "source": [
        "import numpy as np\n",
        "\n",
        "np0 = np.array([[1, 3],[2, 3]])\n",
        "np9= np.array([[2, 3], [4, 2]])\n",
        "\n",
        "np0"
      ],
      "metadata": {
        "colab": {
          "base_uri": "https://localhost:8080/"
        },
        "id": "l_VUSoObwV5y",
        "outputId": "fab6f003-785f-4820-cec6-e3af8c4a2549"
      },
      "execution_count": null,
      "outputs": [
        {
          "output_type": "execute_result",
          "data": {
            "text/plain": [
              "array([[1, 3],\n",
              "       [2, 3]])"
            ]
          },
          "metadata": {},
          "execution_count": 33
        }
      ]
    },
    {
      "cell_type": "code",
      "source": [
        "np9"
      ],
      "metadata": {
        "colab": {
          "base_uri": "https://localhost:8080/"
        },
        "id": "QsF3vYZSxggA",
        "outputId": "be6397f6-4290-4b44-8e0c-c9cf6108b283"
      },
      "execution_count": null,
      "outputs": [
        {
          "output_type": "execute_result",
          "data": {
            "text/plain": [
              "array([[2, 3],\n",
              "       [4, 2]])"
            ]
          },
          "metadata": {},
          "execution_count": 35
        }
      ]
    },
    {
      "cell_type": "code",
      "source": [
        "np10 = np.dot(np0 , np9)\n",
        "np10"
      ],
      "metadata": {
        "colab": {
          "base_uri": "https://localhost:8080/"
        },
        "id": "OeKOFugaygsE",
        "outputId": "7bcb1f0c-42f3-47e9-ee32-45170830aeb0"
      },
      "execution_count": null,
      "outputs": [
        {
          "output_type": "execute_result",
          "data": {
            "text/plain": [
              "array([[14,  9],\n",
              "       [16, 12]])"
            ]
          },
          "metadata": {},
          "execution_count": 37
        }
      ]
    },
    {
      "cell_type": "code",
      "source": [
        "# Use Pandas to load a CSV file and display its first 5 rows"
      ],
      "metadata": {
        "id": "Y1WlKyQDyrhy"
      },
      "execution_count": null,
      "outputs": []
    },
    {
      "cell_type": "code",
      "source": [
        "import pandas as pd\n",
        "\n",
        "df = pd.read_csv('/content/drive/MyDrive/Colab Notebooks/vo_comp (1).csv')\n",
        "df"
      ],
      "metadata": {
        "colab": {
          "base_uri": "https://localhost:8080/",
          "height": 617
        },
        "id": "4NUG7_0XzRuD",
        "outputId": "9a1a5b43-ebe2-4fa3-da9b-e448501c3d08"
      },
      "execution_count": null,
      "outputs": [
        {
          "output_type": "execute_result",
          "data": {
            "text/plain": [
              "      ORDERNUMBER  QUANTITYORDERED  PRICEEACH  ORDERLINENUMBER  \\\n",
              "0           10107               30      95.70                2   \n",
              "1           10121               34      81.35                5   \n",
              "2           10134               41      94.74                2   \n",
              "3           10145               45      83.26                6   \n",
              "4           10159               49     100.00               14   \n",
              "...           ...              ...        ...              ...   \n",
              "2818        10350               20     100.00               15   \n",
              "2819        10373               29     100.00                1   \n",
              "2820        10386               43     100.00                4   \n",
              "2821        10397               34      62.24                1   \n",
              "2822        10414               47      65.52                9   \n",
              "\n",
              "         ORDERDATETIME  DELIVERYDATETIME    STATUS  PRODUCTLINE  \\\n",
              "0     15-12-2013 00:50  17-12-2013 09:08   Shipped  Motorcycles   \n",
              "1     29-04-2014 23:40  01-05-2014 12:49   Shipped  Motorcycles   \n",
              "2     30-12-2012 00:21  30-12-2012 23:34   Shipped  Motorcycles   \n",
              "3     28-11-2014 00:31  29-11-2014 06:08   Shipped  Motorcycles   \n",
              "4     26-10-2013 23:11  27-10-2013 12:16   Shipped  Motorcycles   \n",
              "...                ...               ...       ...          ...   \n",
              "2818  06-03-2015 00:48  08-03-2015 20:24   Shipped        Ships   \n",
              "2819  28-02-2015 01:15  02-03-2015 14:26   Shipped        Ships   \n",
              "2820  20-06-2015 23:02  23-06-2015 15:16  Resolved        Ships   \n",
              "2821  17-09-2012 00:15  18-09-2012 14:44   Shipped        Ships   \n",
              "2822  31-08-2015 00:02  31-08-2015 12:41   On Hold        Ships   \n",
              "\n",
              "               CITY STATE POSTALCODE  COUNTRY TERRITORY CONTACTLASTNAME  \\\n",
              "0               NYC    NY      10022      USA       NaN              Yu   \n",
              "1             Reims   NaN      51100   France      EMEA         Henriot   \n",
              "2             Paris   NaN      75508   France      EMEA        Da Cunha   \n",
              "3          Pasadena    CA      90003      USA       NaN           Young   \n",
              "4     San Francisco    CA        NaN      USA       NaN           Brown   \n",
              "...             ...   ...        ...      ...       ...             ...   \n",
              "2818         Madrid   NaN      28034    Spain      EMEA          Freyre   \n",
              "2819           Oulu   NaN      90110  Finland      EMEA       Koskitalo   \n",
              "2820         Madrid   NaN      28034    Spain      EMEA          Freyre   \n",
              "2821       Toulouse   NaN      31000   France      EMEA          Roulet   \n",
              "2822         Boston    MA      51003      USA       NaN         Yoshido   \n",
              "\n",
              "     CONTACTFIRSTNAME DEALSIZE    Sales  \n",
              "0                Kwai    Small  2871.00  \n",
              "1                Paul    Small  2765.90  \n",
              "2              Daniel   Medium  3884.34  \n",
              "3               Julie   Medium  3746.70  \n",
              "4               Julie   Medium  4900.00  \n",
              "...               ...      ...      ...  \n",
              "2818            Diego    Small  2000.00  \n",
              "2819           Pirkko   Medium  2900.00  \n",
              "2820            Diego   Medium  4300.00  \n",
              "2821          Annette    Small  2116.16  \n",
              "2822             Juri   Medium  3079.44  \n",
              "\n",
              "[2823 rows x 17 columns]"
            ],
            "text/html": [
              "\n",
              "  <div id=\"df-3ab09da4-e793-4943-91d3-2c414b8d5718\" class=\"colab-df-container\">\n",
              "    <div>\n",
              "<style scoped>\n",
              "    .dataframe tbody tr th:only-of-type {\n",
              "        vertical-align: middle;\n",
              "    }\n",
              "\n",
              "    .dataframe tbody tr th {\n",
              "        vertical-align: top;\n",
              "    }\n",
              "\n",
              "    .dataframe thead th {\n",
              "        text-align: right;\n",
              "    }\n",
              "</style>\n",
              "<table border=\"1\" class=\"dataframe\">\n",
              "  <thead>\n",
              "    <tr style=\"text-align: right;\">\n",
              "      <th></th>\n",
              "      <th>ORDERNUMBER</th>\n",
              "      <th>QUANTITYORDERED</th>\n",
              "      <th>PRICEEACH</th>\n",
              "      <th>ORDERLINENUMBER</th>\n",
              "      <th>ORDERDATETIME</th>\n",
              "      <th>DELIVERYDATETIME</th>\n",
              "      <th>STATUS</th>\n",
              "      <th>PRODUCTLINE</th>\n",
              "      <th>CITY</th>\n",
              "      <th>STATE</th>\n",
              "      <th>POSTALCODE</th>\n",
              "      <th>COUNTRY</th>\n",
              "      <th>TERRITORY</th>\n",
              "      <th>CONTACTLASTNAME</th>\n",
              "      <th>CONTACTFIRSTNAME</th>\n",
              "      <th>DEALSIZE</th>\n",
              "      <th>Sales</th>\n",
              "    </tr>\n",
              "  </thead>\n",
              "  <tbody>\n",
              "    <tr>\n",
              "      <th>0</th>\n",
              "      <td>10107</td>\n",
              "      <td>30</td>\n",
              "      <td>95.70</td>\n",
              "      <td>2</td>\n",
              "      <td>15-12-2013 00:50</td>\n",
              "      <td>17-12-2013 09:08</td>\n",
              "      <td>Shipped</td>\n",
              "      <td>Motorcycles</td>\n",
              "      <td>NYC</td>\n",
              "      <td>NY</td>\n",
              "      <td>10022</td>\n",
              "      <td>USA</td>\n",
              "      <td>NaN</td>\n",
              "      <td>Yu</td>\n",
              "      <td>Kwai</td>\n",
              "      <td>Small</td>\n",
              "      <td>2871.00</td>\n",
              "    </tr>\n",
              "    <tr>\n",
              "      <th>1</th>\n",
              "      <td>10121</td>\n",
              "      <td>34</td>\n",
              "      <td>81.35</td>\n",
              "      <td>5</td>\n",
              "      <td>29-04-2014 23:40</td>\n",
              "      <td>01-05-2014 12:49</td>\n",
              "      <td>Shipped</td>\n",
              "      <td>Motorcycles</td>\n",
              "      <td>Reims</td>\n",
              "      <td>NaN</td>\n",
              "      <td>51100</td>\n",
              "      <td>France</td>\n",
              "      <td>EMEA</td>\n",
              "      <td>Henriot</td>\n",
              "      <td>Paul</td>\n",
              "      <td>Small</td>\n",
              "      <td>2765.90</td>\n",
              "    </tr>\n",
              "    <tr>\n",
              "      <th>2</th>\n",
              "      <td>10134</td>\n",
              "      <td>41</td>\n",
              "      <td>94.74</td>\n",
              "      <td>2</td>\n",
              "      <td>30-12-2012 00:21</td>\n",
              "      <td>30-12-2012 23:34</td>\n",
              "      <td>Shipped</td>\n",
              "      <td>Motorcycles</td>\n",
              "      <td>Paris</td>\n",
              "      <td>NaN</td>\n",
              "      <td>75508</td>\n",
              "      <td>France</td>\n",
              "      <td>EMEA</td>\n",
              "      <td>Da Cunha</td>\n",
              "      <td>Daniel</td>\n",
              "      <td>Medium</td>\n",
              "      <td>3884.34</td>\n",
              "    </tr>\n",
              "    <tr>\n",
              "      <th>3</th>\n",
              "      <td>10145</td>\n",
              "      <td>45</td>\n",
              "      <td>83.26</td>\n",
              "      <td>6</td>\n",
              "      <td>28-11-2014 00:31</td>\n",
              "      <td>29-11-2014 06:08</td>\n",
              "      <td>Shipped</td>\n",
              "      <td>Motorcycles</td>\n",
              "      <td>Pasadena</td>\n",
              "      <td>CA</td>\n",
              "      <td>90003</td>\n",
              "      <td>USA</td>\n",
              "      <td>NaN</td>\n",
              "      <td>Young</td>\n",
              "      <td>Julie</td>\n",
              "      <td>Medium</td>\n",
              "      <td>3746.70</td>\n",
              "    </tr>\n",
              "    <tr>\n",
              "      <th>4</th>\n",
              "      <td>10159</td>\n",
              "      <td>49</td>\n",
              "      <td>100.00</td>\n",
              "      <td>14</td>\n",
              "      <td>26-10-2013 23:11</td>\n",
              "      <td>27-10-2013 12:16</td>\n",
              "      <td>Shipped</td>\n",
              "      <td>Motorcycles</td>\n",
              "      <td>San Francisco</td>\n",
              "      <td>CA</td>\n",
              "      <td>NaN</td>\n",
              "      <td>USA</td>\n",
              "      <td>NaN</td>\n",
              "      <td>Brown</td>\n",
              "      <td>Julie</td>\n",
              "      <td>Medium</td>\n",
              "      <td>4900.00</td>\n",
              "    </tr>\n",
              "    <tr>\n",
              "      <th>...</th>\n",
              "      <td>...</td>\n",
              "      <td>...</td>\n",
              "      <td>...</td>\n",
              "      <td>...</td>\n",
              "      <td>...</td>\n",
              "      <td>...</td>\n",
              "      <td>...</td>\n",
              "      <td>...</td>\n",
              "      <td>...</td>\n",
              "      <td>...</td>\n",
              "      <td>...</td>\n",
              "      <td>...</td>\n",
              "      <td>...</td>\n",
              "      <td>...</td>\n",
              "      <td>...</td>\n",
              "      <td>...</td>\n",
              "      <td>...</td>\n",
              "    </tr>\n",
              "    <tr>\n",
              "      <th>2818</th>\n",
              "      <td>10350</td>\n",
              "      <td>20</td>\n",
              "      <td>100.00</td>\n",
              "      <td>15</td>\n",
              "      <td>06-03-2015 00:48</td>\n",
              "      <td>08-03-2015 20:24</td>\n",
              "      <td>Shipped</td>\n",
              "      <td>Ships</td>\n",
              "      <td>Madrid</td>\n",
              "      <td>NaN</td>\n",
              "      <td>28034</td>\n",
              "      <td>Spain</td>\n",
              "      <td>EMEA</td>\n",
              "      <td>Freyre</td>\n",
              "      <td>Diego</td>\n",
              "      <td>Small</td>\n",
              "      <td>2000.00</td>\n",
              "    </tr>\n",
              "    <tr>\n",
              "      <th>2819</th>\n",
              "      <td>10373</td>\n",
              "      <td>29</td>\n",
              "      <td>100.00</td>\n",
              "      <td>1</td>\n",
              "      <td>28-02-2015 01:15</td>\n",
              "      <td>02-03-2015 14:26</td>\n",
              "      <td>Shipped</td>\n",
              "      <td>Ships</td>\n",
              "      <td>Oulu</td>\n",
              "      <td>NaN</td>\n",
              "      <td>90110</td>\n",
              "      <td>Finland</td>\n",
              "      <td>EMEA</td>\n",
              "      <td>Koskitalo</td>\n",
              "      <td>Pirkko</td>\n",
              "      <td>Medium</td>\n",
              "      <td>2900.00</td>\n",
              "    </tr>\n",
              "    <tr>\n",
              "      <th>2820</th>\n",
              "      <td>10386</td>\n",
              "      <td>43</td>\n",
              "      <td>100.00</td>\n",
              "      <td>4</td>\n",
              "      <td>20-06-2015 23:02</td>\n",
              "      <td>23-06-2015 15:16</td>\n",
              "      <td>Resolved</td>\n",
              "      <td>Ships</td>\n",
              "      <td>Madrid</td>\n",
              "      <td>NaN</td>\n",
              "      <td>28034</td>\n",
              "      <td>Spain</td>\n",
              "      <td>EMEA</td>\n",
              "      <td>Freyre</td>\n",
              "      <td>Diego</td>\n",
              "      <td>Medium</td>\n",
              "      <td>4300.00</td>\n",
              "    </tr>\n",
              "    <tr>\n",
              "      <th>2821</th>\n",
              "      <td>10397</td>\n",
              "      <td>34</td>\n",
              "      <td>62.24</td>\n",
              "      <td>1</td>\n",
              "      <td>17-09-2012 00:15</td>\n",
              "      <td>18-09-2012 14:44</td>\n",
              "      <td>Shipped</td>\n",
              "      <td>Ships</td>\n",
              "      <td>Toulouse</td>\n",
              "      <td>NaN</td>\n",
              "      <td>31000</td>\n",
              "      <td>France</td>\n",
              "      <td>EMEA</td>\n",
              "      <td>Roulet</td>\n",
              "      <td>Annette</td>\n",
              "      <td>Small</td>\n",
              "      <td>2116.16</td>\n",
              "    </tr>\n",
              "    <tr>\n",
              "      <th>2822</th>\n",
              "      <td>10414</td>\n",
              "      <td>47</td>\n",
              "      <td>65.52</td>\n",
              "      <td>9</td>\n",
              "      <td>31-08-2015 00:02</td>\n",
              "      <td>31-08-2015 12:41</td>\n",
              "      <td>On Hold</td>\n",
              "      <td>Ships</td>\n",
              "      <td>Boston</td>\n",
              "      <td>MA</td>\n",
              "      <td>51003</td>\n",
              "      <td>USA</td>\n",
              "      <td>NaN</td>\n",
              "      <td>Yoshido</td>\n",
              "      <td>Juri</td>\n",
              "      <td>Medium</td>\n",
              "      <td>3079.44</td>\n",
              "    </tr>\n",
              "  </tbody>\n",
              "</table>\n",
              "<p>2823 rows × 17 columns</p>\n",
              "</div>\n",
              "    <div class=\"colab-df-buttons\">\n",
              "\n",
              "  <div class=\"colab-df-container\">\n",
              "    <button class=\"colab-df-convert\" onclick=\"convertToInteractive('df-3ab09da4-e793-4943-91d3-2c414b8d5718')\"\n",
              "            title=\"Convert this dataframe to an interactive table.\"\n",
              "            style=\"display:none;\">\n",
              "\n",
              "  <svg xmlns=\"http://www.w3.org/2000/svg\" height=\"24px\" viewBox=\"0 -960 960 960\">\n",
              "    <path d=\"M120-120v-720h720v720H120Zm60-500h600v-160H180v160Zm220 220h160v-160H400v160Zm0 220h160v-160H400v160ZM180-400h160v-160H180v160Zm440 0h160v-160H620v160ZM180-180h160v-160H180v160Zm440 0h160v-160H620v160Z\"/>\n",
              "  </svg>\n",
              "    </button>\n",
              "\n",
              "  <style>\n",
              "    .colab-df-container {\n",
              "      display:flex;\n",
              "      gap: 12px;\n",
              "    }\n",
              "\n",
              "    .colab-df-convert {\n",
              "      background-color: #E8F0FE;\n",
              "      border: none;\n",
              "      border-radius: 50%;\n",
              "      cursor: pointer;\n",
              "      display: none;\n",
              "      fill: #1967D2;\n",
              "      height: 32px;\n",
              "      padding: 0 0 0 0;\n",
              "      width: 32px;\n",
              "    }\n",
              "\n",
              "    .colab-df-convert:hover {\n",
              "      background-color: #E2EBFA;\n",
              "      box-shadow: 0px 1px 2px rgba(60, 64, 67, 0.3), 0px 1px 3px 1px rgba(60, 64, 67, 0.15);\n",
              "      fill: #174EA6;\n",
              "    }\n",
              "\n",
              "    .colab-df-buttons div {\n",
              "      margin-bottom: 4px;\n",
              "    }\n",
              "\n",
              "    [theme=dark] .colab-df-convert {\n",
              "      background-color: #3B4455;\n",
              "      fill: #D2E3FC;\n",
              "    }\n",
              "\n",
              "    [theme=dark] .colab-df-convert:hover {\n",
              "      background-color: #434B5C;\n",
              "      box-shadow: 0px 1px 3px 1px rgba(0, 0, 0, 0.15);\n",
              "      filter: drop-shadow(0px 1px 2px rgba(0, 0, 0, 0.3));\n",
              "      fill: #FFFFFF;\n",
              "    }\n",
              "  </style>\n",
              "\n",
              "    <script>\n",
              "      const buttonEl =\n",
              "        document.querySelector('#df-3ab09da4-e793-4943-91d3-2c414b8d5718 button.colab-df-convert');\n",
              "      buttonEl.style.display =\n",
              "        google.colab.kernel.accessAllowed ? 'block' : 'none';\n",
              "\n",
              "      async function convertToInteractive(key) {\n",
              "        const element = document.querySelector('#df-3ab09da4-e793-4943-91d3-2c414b8d5718');\n",
              "        const dataTable =\n",
              "          await google.colab.kernel.invokeFunction('convertToInteractive',\n",
              "                                                    [key], {});\n",
              "        if (!dataTable) return;\n",
              "\n",
              "        const docLinkHtml = 'Like what you see? Visit the ' +\n",
              "          '<a target=\"_blank\" href=https://colab.research.google.com/notebooks/data_table.ipynb>data table notebook</a>'\n",
              "          + ' to learn more about interactive tables.';\n",
              "        element.innerHTML = '';\n",
              "        dataTable['output_type'] = 'display_data';\n",
              "        await google.colab.output.renderOutput(dataTable, element);\n",
              "        const docLink = document.createElement('div');\n",
              "        docLink.innerHTML = docLinkHtml;\n",
              "        element.appendChild(docLink);\n",
              "      }\n",
              "    </script>\n",
              "  </div>\n",
              "\n",
              "\n",
              "    <div id=\"df-5bfb4ec0-8fd7-43ee-a874-e984181b7ae0\">\n",
              "      <button class=\"colab-df-quickchart\" onclick=\"quickchart('df-5bfb4ec0-8fd7-43ee-a874-e984181b7ae0')\"\n",
              "                title=\"Suggest charts\"\n",
              "                style=\"display:none;\">\n",
              "\n",
              "<svg xmlns=\"http://www.w3.org/2000/svg\" height=\"24px\"viewBox=\"0 0 24 24\"\n",
              "     width=\"24px\">\n",
              "    <g>\n",
              "        <path d=\"M19 3H5c-1.1 0-2 .9-2 2v14c0 1.1.9 2 2 2h14c1.1 0 2-.9 2-2V5c0-1.1-.9-2-2-2zM9 17H7v-7h2v7zm4 0h-2V7h2v10zm4 0h-2v-4h2v4z\"/>\n",
              "    </g>\n",
              "</svg>\n",
              "      </button>\n",
              "\n",
              "<style>\n",
              "  .colab-df-quickchart {\n",
              "      --bg-color: #E8F0FE;\n",
              "      --fill-color: #1967D2;\n",
              "      --hover-bg-color: #E2EBFA;\n",
              "      --hover-fill-color: #174EA6;\n",
              "      --disabled-fill-color: #AAA;\n",
              "      --disabled-bg-color: #DDD;\n",
              "  }\n",
              "\n",
              "  [theme=dark] .colab-df-quickchart {\n",
              "      --bg-color: #3B4455;\n",
              "      --fill-color: #D2E3FC;\n",
              "      --hover-bg-color: #434B5C;\n",
              "      --hover-fill-color: #FFFFFF;\n",
              "      --disabled-bg-color: #3B4455;\n",
              "      --disabled-fill-color: #666;\n",
              "  }\n",
              "\n",
              "  .colab-df-quickchart {\n",
              "    background-color: var(--bg-color);\n",
              "    border: none;\n",
              "    border-radius: 50%;\n",
              "    cursor: pointer;\n",
              "    display: none;\n",
              "    fill: var(--fill-color);\n",
              "    height: 32px;\n",
              "    padding: 0;\n",
              "    width: 32px;\n",
              "  }\n",
              "\n",
              "  .colab-df-quickchart:hover {\n",
              "    background-color: var(--hover-bg-color);\n",
              "    box-shadow: 0 1px 2px rgba(60, 64, 67, 0.3), 0 1px 3px 1px rgba(60, 64, 67, 0.15);\n",
              "    fill: var(--button-hover-fill-color);\n",
              "  }\n",
              "\n",
              "  .colab-df-quickchart-complete:disabled,\n",
              "  .colab-df-quickchart-complete:disabled:hover {\n",
              "    background-color: var(--disabled-bg-color);\n",
              "    fill: var(--disabled-fill-color);\n",
              "    box-shadow: none;\n",
              "  }\n",
              "\n",
              "  .colab-df-spinner {\n",
              "    border: 2px solid var(--fill-color);\n",
              "    border-color: transparent;\n",
              "    border-bottom-color: var(--fill-color);\n",
              "    animation:\n",
              "      spin 1s steps(1) infinite;\n",
              "  }\n",
              "\n",
              "  @keyframes spin {\n",
              "    0% {\n",
              "      border-color: transparent;\n",
              "      border-bottom-color: var(--fill-color);\n",
              "      border-left-color: var(--fill-color);\n",
              "    }\n",
              "    20% {\n",
              "      border-color: transparent;\n",
              "      border-left-color: var(--fill-color);\n",
              "      border-top-color: var(--fill-color);\n",
              "    }\n",
              "    30% {\n",
              "      border-color: transparent;\n",
              "      border-left-color: var(--fill-color);\n",
              "      border-top-color: var(--fill-color);\n",
              "      border-right-color: var(--fill-color);\n",
              "    }\n",
              "    40% {\n",
              "      border-color: transparent;\n",
              "      border-right-color: var(--fill-color);\n",
              "      border-top-color: var(--fill-color);\n",
              "    }\n",
              "    60% {\n",
              "      border-color: transparent;\n",
              "      border-right-color: var(--fill-color);\n",
              "    }\n",
              "    80% {\n",
              "      border-color: transparent;\n",
              "      border-right-color: var(--fill-color);\n",
              "      border-bottom-color: var(--fill-color);\n",
              "    }\n",
              "    90% {\n",
              "      border-color: transparent;\n",
              "      border-bottom-color: var(--fill-color);\n",
              "    }\n",
              "  }\n",
              "</style>\n",
              "\n",
              "      <script>\n",
              "        async function quickchart(key) {\n",
              "          const quickchartButtonEl =\n",
              "            document.querySelector('#' + key + ' button');\n",
              "          quickchartButtonEl.disabled = true;  // To prevent multiple clicks.\n",
              "          quickchartButtonEl.classList.add('colab-df-spinner');\n",
              "          try {\n",
              "            const charts = await google.colab.kernel.invokeFunction(\n",
              "                'suggestCharts', [key], {});\n",
              "          } catch (error) {\n",
              "            console.error('Error during call to suggestCharts:', error);\n",
              "          }\n",
              "          quickchartButtonEl.classList.remove('colab-df-spinner');\n",
              "          quickchartButtonEl.classList.add('colab-df-quickchart-complete');\n",
              "        }\n",
              "        (() => {\n",
              "          let quickchartButtonEl =\n",
              "            document.querySelector('#df-5bfb4ec0-8fd7-43ee-a874-e984181b7ae0 button');\n",
              "          quickchartButtonEl.style.display =\n",
              "            google.colab.kernel.accessAllowed ? 'block' : 'none';\n",
              "        })();\n",
              "      </script>\n",
              "    </div>\n",
              "\n",
              "  <div id=\"id_85993677-7b55-4f67-916d-84e465ffa196\">\n",
              "    <style>\n",
              "      .colab-df-generate {\n",
              "        background-color: #E8F0FE;\n",
              "        border: none;\n",
              "        border-radius: 50%;\n",
              "        cursor: pointer;\n",
              "        display: none;\n",
              "        fill: #1967D2;\n",
              "        height: 32px;\n",
              "        padding: 0 0 0 0;\n",
              "        width: 32px;\n",
              "      }\n",
              "\n",
              "      .colab-df-generate:hover {\n",
              "        background-color: #E2EBFA;\n",
              "        box-shadow: 0px 1px 2px rgba(60, 64, 67, 0.3), 0px 1px 3px 1px rgba(60, 64, 67, 0.15);\n",
              "        fill: #174EA6;\n",
              "      }\n",
              "\n",
              "      [theme=dark] .colab-df-generate {\n",
              "        background-color: #3B4455;\n",
              "        fill: #D2E3FC;\n",
              "      }\n",
              "\n",
              "      [theme=dark] .colab-df-generate:hover {\n",
              "        background-color: #434B5C;\n",
              "        box-shadow: 0px 1px 3px 1px rgba(0, 0, 0, 0.15);\n",
              "        filter: drop-shadow(0px 1px 2px rgba(0, 0, 0, 0.3));\n",
              "        fill: #FFFFFF;\n",
              "      }\n",
              "    </style>\n",
              "    <button class=\"colab-df-generate\" onclick=\"generateWithVariable('df')\"\n",
              "            title=\"Generate code using this dataframe.\"\n",
              "            style=\"display:none;\">\n",
              "\n",
              "  <svg xmlns=\"http://www.w3.org/2000/svg\" height=\"24px\"viewBox=\"0 0 24 24\"\n",
              "       width=\"24px\">\n",
              "    <path d=\"M7,19H8.4L18.45,9,17,7.55,7,17.6ZM5,21V16.75L18.45,3.32a2,2,0,0,1,2.83,0l1.4,1.43a1.91,1.91,0,0,1,.58,1.4,1.91,1.91,0,0,1-.58,1.4L9.25,21ZM18.45,9,17,7.55Zm-12,3A5.31,5.31,0,0,0,4.9,8.1,5.31,5.31,0,0,0,1,6.5,5.31,5.31,0,0,0,4.9,4.9,5.31,5.31,0,0,0,6.5,1,5.31,5.31,0,0,0,8.1,4.9,5.31,5.31,0,0,0,12,6.5,5.46,5.46,0,0,0,6.5,12Z\"/>\n",
              "  </svg>\n",
              "    </button>\n",
              "    <script>\n",
              "      (() => {\n",
              "      const buttonEl =\n",
              "        document.querySelector('#id_85993677-7b55-4f67-916d-84e465ffa196 button.colab-df-generate');\n",
              "      buttonEl.style.display =\n",
              "        google.colab.kernel.accessAllowed ? 'block' : 'none';\n",
              "\n",
              "      buttonEl.onclick = () => {\n",
              "        google.colab.notebook.generateWithVariable('df');\n",
              "      }\n",
              "      })();\n",
              "    </script>\n",
              "  </div>\n",
              "\n",
              "    </div>\n",
              "  </div>\n"
            ],
            "application/vnd.google.colaboratory.intrinsic+json": {
              "type": "dataframe",
              "variable_name": "df",
              "summary": "{\n  \"name\": \"df\",\n  \"rows\": 2823,\n  \"fields\": [\n    {\n      \"column\": \"ORDERNUMBER\",\n      \"properties\": {\n        \"dtype\": \"number\",\n        \"std\": 92,\n        \"min\": 10100,\n        \"max\": 10425,\n        \"num_unique_values\": 307,\n        \"samples\": [\n          10240,\n          10374,\n          10127\n        ],\n        \"semantic_type\": \"\",\n        \"description\": \"\"\n      }\n    },\n    {\n      \"column\": \"QUANTITYORDERED\",\n      \"properties\": {\n        \"dtype\": \"number\",\n        \"std\": 9,\n        \"min\": 6,\n        \"max\": 97,\n        \"num_unique_values\": 58,\n        \"samples\": [\n          30,\n          36,\n          19\n        ],\n        \"semantic_type\": \"\",\n        \"description\": \"\"\n      }\n    },\n    {\n      \"column\": \"PRICEEACH\",\n      \"properties\": {\n        \"dtype\": \"number\",\n        \"std\": 20.174276527840703,\n        \"min\": 26.88,\n        \"max\": 100.0,\n        \"num_unique_values\": 1016,\n        \"samples\": [\n          81.17,\n          65.13,\n          52.7\n        ],\n        \"semantic_type\": \"\",\n        \"description\": \"\"\n      }\n    },\n    {\n      \"column\": \"ORDERLINENUMBER\",\n      \"properties\": {\n        \"dtype\": \"number\",\n        \"std\": 4,\n        \"min\": 1,\n        \"max\": 18,\n        \"num_unique_values\": 18,\n        \"samples\": [\n          2,\n          5,\n          12\n        ],\n        \"semantic_type\": \"\",\n        \"description\": \"\"\n      }\n    },\n    {\n      \"column\": \"ORDERDATETIME\",\n      \"properties\": {\n        \"dtype\": \"object\",\n        \"num_unique_values\": 2815,\n        \"samples\": [\n          \"13-04-2013 23:22\",\n          \"09-05-2016 23:51\",\n          \"01-09-2014 23:47\"\n        ],\n        \"semantic_type\": \"\",\n        \"description\": \"\"\n      }\n    },\n    {\n      \"column\": \"DELIVERYDATETIME\",\n      \"properties\": {\n        \"dtype\": \"object\",\n        \"num_unique_values\": 2820,\n        \"samples\": [\n          \"25-08-2013 07:16\",\n          \"13-11-2014 12:29\",\n          \"01-11-2013 10:32\"\n        ],\n        \"semantic_type\": \"\",\n        \"description\": \"\"\n      }\n    },\n    {\n      \"column\": \"STATUS\",\n      \"properties\": {\n        \"dtype\": \"category\",\n        \"num_unique_values\": 6,\n        \"samples\": [\n          \"Shipped\",\n          \"Disputed\",\n          \"Resolved\"\n        ],\n        \"semantic_type\": \"\",\n        \"description\": \"\"\n      }\n    },\n    {\n      \"column\": \"PRODUCTLINE\",\n      \"properties\": {\n        \"dtype\": \"category\",\n        \"num_unique_values\": 7,\n        \"samples\": [\n          \"Motorcycles\",\n          \"Classic Cars\",\n          \"Ships\"\n        ],\n        \"semantic_type\": \"\",\n        \"description\": \"\"\n      }\n    },\n    {\n      \"column\": \"CITY\",\n      \"properties\": {\n        \"dtype\": \"category\",\n        \"num_unique_values\": 73,\n        \"samples\": [\n          \"San Francisco\",\n          \"Glendale\",\n          \"New Bedford\"\n        ],\n        \"semantic_type\": \"\",\n        \"description\": \"\"\n      }\n    },\n    {\n      \"column\": \"STATE\",\n      \"properties\": {\n        \"dtype\": \"category\",\n        \"num_unique_values\": 16,\n        \"samples\": [\n          \"NY\",\n          \"CA\",\n          \"MA\"\n        ],\n        \"semantic_type\": \"\",\n        \"description\": \"\"\n      }\n    },\n    {\n      \"column\": \"POSTALCODE\",\n      \"properties\": {\n        \"dtype\": \"category\",\n        \"num_unique_values\": 73,\n        \"samples\": [\n          \"94217\",\n          \"92561\",\n          \"50553\"\n        ],\n        \"semantic_type\": \"\",\n        \"description\": \"\"\n      }\n    },\n    {\n      \"column\": \"COUNTRY\",\n      \"properties\": {\n        \"dtype\": \"category\",\n        \"num_unique_values\": 19,\n        \"samples\": [\n          \"USA\",\n          \"Austria\",\n          \"Japan\"\n        ],\n        \"semantic_type\": \"\",\n        \"description\": \"\"\n      }\n    },\n    {\n      \"column\": \"TERRITORY\",\n      \"properties\": {\n        \"dtype\": \"category\",\n        \"num_unique_values\": 3,\n        \"samples\": [\n          \"EMEA\",\n          \"APAC\",\n          \"Japan\"\n        ],\n        \"semantic_type\": \"\",\n        \"description\": \"\"\n      }\n    },\n    {\n      \"column\": \"CONTACTLASTNAME\",\n      \"properties\": {\n        \"dtype\": \"category\",\n        \"num_unique_values\": 77,\n        \"samples\": [\n          \"Brown\",\n          \"Nelson\",\n          \"Ferguson\"\n        ],\n        \"semantic_type\": \"\",\n        \"description\": \"\"\n      }\n    },\n    {\n      \"column\": \"CONTACTFIRSTNAME\",\n      \"properties\": {\n        \"dtype\": \"category\",\n        \"num_unique_values\": 72,\n        \"samples\": [\n          \"Juri\",\n          \"Victoria\",\n          \"Violeta\"\n        ],\n        \"semantic_type\": \"\",\n        \"description\": \"\"\n      }\n    },\n    {\n      \"column\": \"DEALSIZE\",\n      \"properties\": {\n        \"dtype\": \"category\",\n        \"num_unique_values\": 3,\n        \"samples\": [\n          \"Small\",\n          \"Medium\",\n          \"Large\"\n        ],\n        \"semantic_type\": \"\",\n        \"description\": \"\"\n      }\n    },\n    {\n      \"column\": \"Sales\",\n      \"properties\": {\n        \"dtype\": \"number\",\n        \"std\": 1105.644283746358,\n        \"min\": 482.13,\n        \"max\": 9048.16,\n        \"num_unique_values\": 1539,\n        \"samples\": [\n          1921.92,\n          3107.61,\n          1997.5\n        ],\n        \"semantic_type\": \"\",\n        \"description\": \"\"\n      }\n    }\n  ]\n}"
            }
          },
          "metadata": {},
          "execution_count": 38
        }
      ]
    },
    {
      "cell_type": "code",
      "source": [
        "df.head(5)"
      ],
      "metadata": {
        "colab": {
          "base_uri": "https://localhost:8080/",
          "height": 313
        },
        "id": "LRDqgMxnz1M0",
        "outputId": "1ae4dd82-fa34-400d-b2dd-20863213e99f"
      },
      "execution_count": null,
      "outputs": [
        {
          "output_type": "execute_result",
          "data": {
            "text/plain": [
              "   ORDERNUMBER  QUANTITYORDERED  PRICEEACH  ORDERLINENUMBER     ORDERDATETIME  \\\n",
              "0        10107               30      95.70                2  15-12-2013 00:50   \n",
              "1        10121               34      81.35                5  29-04-2014 23:40   \n",
              "2        10134               41      94.74                2  30-12-2012 00:21   \n",
              "3        10145               45      83.26                6  28-11-2014 00:31   \n",
              "4        10159               49     100.00               14  26-10-2013 23:11   \n",
              "\n",
              "   DELIVERYDATETIME   STATUS  PRODUCTLINE           CITY STATE POSTALCODE  \\\n",
              "0  17-12-2013 09:08  Shipped  Motorcycles            NYC    NY      10022   \n",
              "1  01-05-2014 12:49  Shipped  Motorcycles          Reims   NaN      51100   \n",
              "2  30-12-2012 23:34  Shipped  Motorcycles          Paris   NaN      75508   \n",
              "3  29-11-2014 06:08  Shipped  Motorcycles       Pasadena    CA      90003   \n",
              "4  27-10-2013 12:16  Shipped  Motorcycles  San Francisco    CA        NaN   \n",
              "\n",
              "  COUNTRY TERRITORY CONTACTLASTNAME CONTACTFIRSTNAME DEALSIZE    Sales  \n",
              "0     USA       NaN              Yu             Kwai    Small  2871.00  \n",
              "1  France      EMEA         Henriot             Paul    Small  2765.90  \n",
              "2  France      EMEA        Da Cunha           Daniel   Medium  3884.34  \n",
              "3     USA       NaN           Young            Julie   Medium  3746.70  \n",
              "4     USA       NaN           Brown            Julie   Medium  4900.00  "
            ],
            "text/html": [
              "\n",
              "  <div id=\"df-ff589caa-8738-4925-85d6-39068c7f2f27\" class=\"colab-df-container\">\n",
              "    <div>\n",
              "<style scoped>\n",
              "    .dataframe tbody tr th:only-of-type {\n",
              "        vertical-align: middle;\n",
              "    }\n",
              "\n",
              "    .dataframe tbody tr th {\n",
              "        vertical-align: top;\n",
              "    }\n",
              "\n",
              "    .dataframe thead th {\n",
              "        text-align: right;\n",
              "    }\n",
              "</style>\n",
              "<table border=\"1\" class=\"dataframe\">\n",
              "  <thead>\n",
              "    <tr style=\"text-align: right;\">\n",
              "      <th></th>\n",
              "      <th>ORDERNUMBER</th>\n",
              "      <th>QUANTITYORDERED</th>\n",
              "      <th>PRICEEACH</th>\n",
              "      <th>ORDERLINENUMBER</th>\n",
              "      <th>ORDERDATETIME</th>\n",
              "      <th>DELIVERYDATETIME</th>\n",
              "      <th>STATUS</th>\n",
              "      <th>PRODUCTLINE</th>\n",
              "      <th>CITY</th>\n",
              "      <th>STATE</th>\n",
              "      <th>POSTALCODE</th>\n",
              "      <th>COUNTRY</th>\n",
              "      <th>TERRITORY</th>\n",
              "      <th>CONTACTLASTNAME</th>\n",
              "      <th>CONTACTFIRSTNAME</th>\n",
              "      <th>DEALSIZE</th>\n",
              "      <th>Sales</th>\n",
              "    </tr>\n",
              "  </thead>\n",
              "  <tbody>\n",
              "    <tr>\n",
              "      <th>0</th>\n",
              "      <td>10107</td>\n",
              "      <td>30</td>\n",
              "      <td>95.70</td>\n",
              "      <td>2</td>\n",
              "      <td>15-12-2013 00:50</td>\n",
              "      <td>17-12-2013 09:08</td>\n",
              "      <td>Shipped</td>\n",
              "      <td>Motorcycles</td>\n",
              "      <td>NYC</td>\n",
              "      <td>NY</td>\n",
              "      <td>10022</td>\n",
              "      <td>USA</td>\n",
              "      <td>NaN</td>\n",
              "      <td>Yu</td>\n",
              "      <td>Kwai</td>\n",
              "      <td>Small</td>\n",
              "      <td>2871.00</td>\n",
              "    </tr>\n",
              "    <tr>\n",
              "      <th>1</th>\n",
              "      <td>10121</td>\n",
              "      <td>34</td>\n",
              "      <td>81.35</td>\n",
              "      <td>5</td>\n",
              "      <td>29-04-2014 23:40</td>\n",
              "      <td>01-05-2014 12:49</td>\n",
              "      <td>Shipped</td>\n",
              "      <td>Motorcycles</td>\n",
              "      <td>Reims</td>\n",
              "      <td>NaN</td>\n",
              "      <td>51100</td>\n",
              "      <td>France</td>\n",
              "      <td>EMEA</td>\n",
              "      <td>Henriot</td>\n",
              "      <td>Paul</td>\n",
              "      <td>Small</td>\n",
              "      <td>2765.90</td>\n",
              "    </tr>\n",
              "    <tr>\n",
              "      <th>2</th>\n",
              "      <td>10134</td>\n",
              "      <td>41</td>\n",
              "      <td>94.74</td>\n",
              "      <td>2</td>\n",
              "      <td>30-12-2012 00:21</td>\n",
              "      <td>30-12-2012 23:34</td>\n",
              "      <td>Shipped</td>\n",
              "      <td>Motorcycles</td>\n",
              "      <td>Paris</td>\n",
              "      <td>NaN</td>\n",
              "      <td>75508</td>\n",
              "      <td>France</td>\n",
              "      <td>EMEA</td>\n",
              "      <td>Da Cunha</td>\n",
              "      <td>Daniel</td>\n",
              "      <td>Medium</td>\n",
              "      <td>3884.34</td>\n",
              "    </tr>\n",
              "    <tr>\n",
              "      <th>3</th>\n",
              "      <td>10145</td>\n",
              "      <td>45</td>\n",
              "      <td>83.26</td>\n",
              "      <td>6</td>\n",
              "      <td>28-11-2014 00:31</td>\n",
              "      <td>29-11-2014 06:08</td>\n",
              "      <td>Shipped</td>\n",
              "      <td>Motorcycles</td>\n",
              "      <td>Pasadena</td>\n",
              "      <td>CA</td>\n",
              "      <td>90003</td>\n",
              "      <td>USA</td>\n",
              "      <td>NaN</td>\n",
              "      <td>Young</td>\n",
              "      <td>Julie</td>\n",
              "      <td>Medium</td>\n",
              "      <td>3746.70</td>\n",
              "    </tr>\n",
              "    <tr>\n",
              "      <th>4</th>\n",
              "      <td>10159</td>\n",
              "      <td>49</td>\n",
              "      <td>100.00</td>\n",
              "      <td>14</td>\n",
              "      <td>26-10-2013 23:11</td>\n",
              "      <td>27-10-2013 12:16</td>\n",
              "      <td>Shipped</td>\n",
              "      <td>Motorcycles</td>\n",
              "      <td>San Francisco</td>\n",
              "      <td>CA</td>\n",
              "      <td>NaN</td>\n",
              "      <td>USA</td>\n",
              "      <td>NaN</td>\n",
              "      <td>Brown</td>\n",
              "      <td>Julie</td>\n",
              "      <td>Medium</td>\n",
              "      <td>4900.00</td>\n",
              "    </tr>\n",
              "  </tbody>\n",
              "</table>\n",
              "</div>\n",
              "    <div class=\"colab-df-buttons\">\n",
              "\n",
              "  <div class=\"colab-df-container\">\n",
              "    <button class=\"colab-df-convert\" onclick=\"convertToInteractive('df-ff589caa-8738-4925-85d6-39068c7f2f27')\"\n",
              "            title=\"Convert this dataframe to an interactive table.\"\n",
              "            style=\"display:none;\">\n",
              "\n",
              "  <svg xmlns=\"http://www.w3.org/2000/svg\" height=\"24px\" viewBox=\"0 -960 960 960\">\n",
              "    <path d=\"M120-120v-720h720v720H120Zm60-500h600v-160H180v160Zm220 220h160v-160H400v160Zm0 220h160v-160H400v160ZM180-400h160v-160H180v160Zm440 0h160v-160H620v160ZM180-180h160v-160H180v160Zm440 0h160v-160H620v160Z\"/>\n",
              "  </svg>\n",
              "    </button>\n",
              "\n",
              "  <style>\n",
              "    .colab-df-container {\n",
              "      display:flex;\n",
              "      gap: 12px;\n",
              "    }\n",
              "\n",
              "    .colab-df-convert {\n",
              "      background-color: #E8F0FE;\n",
              "      border: none;\n",
              "      border-radius: 50%;\n",
              "      cursor: pointer;\n",
              "      display: none;\n",
              "      fill: #1967D2;\n",
              "      height: 32px;\n",
              "      padding: 0 0 0 0;\n",
              "      width: 32px;\n",
              "    }\n",
              "\n",
              "    .colab-df-convert:hover {\n",
              "      background-color: #E2EBFA;\n",
              "      box-shadow: 0px 1px 2px rgba(60, 64, 67, 0.3), 0px 1px 3px 1px rgba(60, 64, 67, 0.15);\n",
              "      fill: #174EA6;\n",
              "    }\n",
              "\n",
              "    .colab-df-buttons div {\n",
              "      margin-bottom: 4px;\n",
              "    }\n",
              "\n",
              "    [theme=dark] .colab-df-convert {\n",
              "      background-color: #3B4455;\n",
              "      fill: #D2E3FC;\n",
              "    }\n",
              "\n",
              "    [theme=dark] .colab-df-convert:hover {\n",
              "      background-color: #434B5C;\n",
              "      box-shadow: 0px 1px 3px 1px rgba(0, 0, 0, 0.15);\n",
              "      filter: drop-shadow(0px 1px 2px rgba(0, 0, 0, 0.3));\n",
              "      fill: #FFFFFF;\n",
              "    }\n",
              "  </style>\n",
              "\n",
              "    <script>\n",
              "      const buttonEl =\n",
              "        document.querySelector('#df-ff589caa-8738-4925-85d6-39068c7f2f27 button.colab-df-convert');\n",
              "      buttonEl.style.display =\n",
              "        google.colab.kernel.accessAllowed ? 'block' : 'none';\n",
              "\n",
              "      async function convertToInteractive(key) {\n",
              "        const element = document.querySelector('#df-ff589caa-8738-4925-85d6-39068c7f2f27');\n",
              "        const dataTable =\n",
              "          await google.colab.kernel.invokeFunction('convertToInteractive',\n",
              "                                                    [key], {});\n",
              "        if (!dataTable) return;\n",
              "\n",
              "        const docLinkHtml = 'Like what you see? Visit the ' +\n",
              "          '<a target=\"_blank\" href=https://colab.research.google.com/notebooks/data_table.ipynb>data table notebook</a>'\n",
              "          + ' to learn more about interactive tables.';\n",
              "        element.innerHTML = '';\n",
              "        dataTable['output_type'] = 'display_data';\n",
              "        await google.colab.output.renderOutput(dataTable, element);\n",
              "        const docLink = document.createElement('div');\n",
              "        docLink.innerHTML = docLinkHtml;\n",
              "        element.appendChild(docLink);\n",
              "      }\n",
              "    </script>\n",
              "  </div>\n",
              "\n",
              "\n",
              "    <div id=\"df-852806bb-4ec4-41ec-8d92-7b2cd6534c49\">\n",
              "      <button class=\"colab-df-quickchart\" onclick=\"quickchart('df-852806bb-4ec4-41ec-8d92-7b2cd6534c49')\"\n",
              "                title=\"Suggest charts\"\n",
              "                style=\"display:none;\">\n",
              "\n",
              "<svg xmlns=\"http://www.w3.org/2000/svg\" height=\"24px\"viewBox=\"0 0 24 24\"\n",
              "     width=\"24px\">\n",
              "    <g>\n",
              "        <path d=\"M19 3H5c-1.1 0-2 .9-2 2v14c0 1.1.9 2 2 2h14c1.1 0 2-.9 2-2V5c0-1.1-.9-2-2-2zM9 17H7v-7h2v7zm4 0h-2V7h2v10zm4 0h-2v-4h2v4z\"/>\n",
              "    </g>\n",
              "</svg>\n",
              "      </button>\n",
              "\n",
              "<style>\n",
              "  .colab-df-quickchart {\n",
              "      --bg-color: #E8F0FE;\n",
              "      --fill-color: #1967D2;\n",
              "      --hover-bg-color: #E2EBFA;\n",
              "      --hover-fill-color: #174EA6;\n",
              "      --disabled-fill-color: #AAA;\n",
              "      --disabled-bg-color: #DDD;\n",
              "  }\n",
              "\n",
              "  [theme=dark] .colab-df-quickchart {\n",
              "      --bg-color: #3B4455;\n",
              "      --fill-color: #D2E3FC;\n",
              "      --hover-bg-color: #434B5C;\n",
              "      --hover-fill-color: #FFFFFF;\n",
              "      --disabled-bg-color: #3B4455;\n",
              "      --disabled-fill-color: #666;\n",
              "  }\n",
              "\n",
              "  .colab-df-quickchart {\n",
              "    background-color: var(--bg-color);\n",
              "    border: none;\n",
              "    border-radius: 50%;\n",
              "    cursor: pointer;\n",
              "    display: none;\n",
              "    fill: var(--fill-color);\n",
              "    height: 32px;\n",
              "    padding: 0;\n",
              "    width: 32px;\n",
              "  }\n",
              "\n",
              "  .colab-df-quickchart:hover {\n",
              "    background-color: var(--hover-bg-color);\n",
              "    box-shadow: 0 1px 2px rgba(60, 64, 67, 0.3), 0 1px 3px 1px rgba(60, 64, 67, 0.15);\n",
              "    fill: var(--button-hover-fill-color);\n",
              "  }\n",
              "\n",
              "  .colab-df-quickchart-complete:disabled,\n",
              "  .colab-df-quickchart-complete:disabled:hover {\n",
              "    background-color: var(--disabled-bg-color);\n",
              "    fill: var(--disabled-fill-color);\n",
              "    box-shadow: none;\n",
              "  }\n",
              "\n",
              "  .colab-df-spinner {\n",
              "    border: 2px solid var(--fill-color);\n",
              "    border-color: transparent;\n",
              "    border-bottom-color: var(--fill-color);\n",
              "    animation:\n",
              "      spin 1s steps(1) infinite;\n",
              "  }\n",
              "\n",
              "  @keyframes spin {\n",
              "    0% {\n",
              "      border-color: transparent;\n",
              "      border-bottom-color: var(--fill-color);\n",
              "      border-left-color: var(--fill-color);\n",
              "    }\n",
              "    20% {\n",
              "      border-color: transparent;\n",
              "      border-left-color: var(--fill-color);\n",
              "      border-top-color: var(--fill-color);\n",
              "    }\n",
              "    30% {\n",
              "      border-color: transparent;\n",
              "      border-left-color: var(--fill-color);\n",
              "      border-top-color: var(--fill-color);\n",
              "      border-right-color: var(--fill-color);\n",
              "    }\n",
              "    40% {\n",
              "      border-color: transparent;\n",
              "      border-right-color: var(--fill-color);\n",
              "      border-top-color: var(--fill-color);\n",
              "    }\n",
              "    60% {\n",
              "      border-color: transparent;\n",
              "      border-right-color: var(--fill-color);\n",
              "    }\n",
              "    80% {\n",
              "      border-color: transparent;\n",
              "      border-right-color: var(--fill-color);\n",
              "      border-bottom-color: var(--fill-color);\n",
              "    }\n",
              "    90% {\n",
              "      border-color: transparent;\n",
              "      border-bottom-color: var(--fill-color);\n",
              "    }\n",
              "  }\n",
              "</style>\n",
              "\n",
              "      <script>\n",
              "        async function quickchart(key) {\n",
              "          const quickchartButtonEl =\n",
              "            document.querySelector('#' + key + ' button');\n",
              "          quickchartButtonEl.disabled = true;  // To prevent multiple clicks.\n",
              "          quickchartButtonEl.classList.add('colab-df-spinner');\n",
              "          try {\n",
              "            const charts = await google.colab.kernel.invokeFunction(\n",
              "                'suggestCharts', [key], {});\n",
              "          } catch (error) {\n",
              "            console.error('Error during call to suggestCharts:', error);\n",
              "          }\n",
              "          quickchartButtonEl.classList.remove('colab-df-spinner');\n",
              "          quickchartButtonEl.classList.add('colab-df-quickchart-complete');\n",
              "        }\n",
              "        (() => {\n",
              "          let quickchartButtonEl =\n",
              "            document.querySelector('#df-852806bb-4ec4-41ec-8d92-7b2cd6534c49 button');\n",
              "          quickchartButtonEl.style.display =\n",
              "            google.colab.kernel.accessAllowed ? 'block' : 'none';\n",
              "        })();\n",
              "      </script>\n",
              "    </div>\n",
              "\n",
              "    </div>\n",
              "  </div>\n"
            ],
            "application/vnd.google.colaboratory.intrinsic+json": {
              "type": "dataframe",
              "variable_name": "df",
              "summary": "{\n  \"name\": \"df\",\n  \"rows\": 2823,\n  \"fields\": [\n    {\n      \"column\": \"ORDERNUMBER\",\n      \"properties\": {\n        \"dtype\": \"number\",\n        \"std\": 92,\n        \"min\": 10100,\n        \"max\": 10425,\n        \"num_unique_values\": 307,\n        \"samples\": [\n          10240,\n          10374,\n          10127\n        ],\n        \"semantic_type\": \"\",\n        \"description\": \"\"\n      }\n    },\n    {\n      \"column\": \"QUANTITYORDERED\",\n      \"properties\": {\n        \"dtype\": \"number\",\n        \"std\": 9,\n        \"min\": 6,\n        \"max\": 97,\n        \"num_unique_values\": 58,\n        \"samples\": [\n          30,\n          36,\n          19\n        ],\n        \"semantic_type\": \"\",\n        \"description\": \"\"\n      }\n    },\n    {\n      \"column\": \"PRICEEACH\",\n      \"properties\": {\n        \"dtype\": \"number\",\n        \"std\": 20.174276527840703,\n        \"min\": 26.88,\n        \"max\": 100.0,\n        \"num_unique_values\": 1016,\n        \"samples\": [\n          81.17,\n          65.13,\n          52.7\n        ],\n        \"semantic_type\": \"\",\n        \"description\": \"\"\n      }\n    },\n    {\n      \"column\": \"ORDERLINENUMBER\",\n      \"properties\": {\n        \"dtype\": \"number\",\n        \"std\": 4,\n        \"min\": 1,\n        \"max\": 18,\n        \"num_unique_values\": 18,\n        \"samples\": [\n          2,\n          5,\n          12\n        ],\n        \"semantic_type\": \"\",\n        \"description\": \"\"\n      }\n    },\n    {\n      \"column\": \"ORDERDATETIME\",\n      \"properties\": {\n        \"dtype\": \"object\",\n        \"num_unique_values\": 2815,\n        \"samples\": [\n          \"13-04-2013 23:22\",\n          \"09-05-2016 23:51\",\n          \"01-09-2014 23:47\"\n        ],\n        \"semantic_type\": \"\",\n        \"description\": \"\"\n      }\n    },\n    {\n      \"column\": \"DELIVERYDATETIME\",\n      \"properties\": {\n        \"dtype\": \"object\",\n        \"num_unique_values\": 2820,\n        \"samples\": [\n          \"25-08-2013 07:16\",\n          \"13-11-2014 12:29\",\n          \"01-11-2013 10:32\"\n        ],\n        \"semantic_type\": \"\",\n        \"description\": \"\"\n      }\n    },\n    {\n      \"column\": \"STATUS\",\n      \"properties\": {\n        \"dtype\": \"category\",\n        \"num_unique_values\": 6,\n        \"samples\": [\n          \"Shipped\",\n          \"Disputed\",\n          \"Resolved\"\n        ],\n        \"semantic_type\": \"\",\n        \"description\": \"\"\n      }\n    },\n    {\n      \"column\": \"PRODUCTLINE\",\n      \"properties\": {\n        \"dtype\": \"category\",\n        \"num_unique_values\": 7,\n        \"samples\": [\n          \"Motorcycles\",\n          \"Classic Cars\",\n          \"Ships\"\n        ],\n        \"semantic_type\": \"\",\n        \"description\": \"\"\n      }\n    },\n    {\n      \"column\": \"CITY\",\n      \"properties\": {\n        \"dtype\": \"category\",\n        \"num_unique_values\": 73,\n        \"samples\": [\n          \"San Francisco\",\n          \"Glendale\",\n          \"New Bedford\"\n        ],\n        \"semantic_type\": \"\",\n        \"description\": \"\"\n      }\n    },\n    {\n      \"column\": \"STATE\",\n      \"properties\": {\n        \"dtype\": \"category\",\n        \"num_unique_values\": 16,\n        \"samples\": [\n          \"NY\",\n          \"CA\",\n          \"MA\"\n        ],\n        \"semantic_type\": \"\",\n        \"description\": \"\"\n      }\n    },\n    {\n      \"column\": \"POSTALCODE\",\n      \"properties\": {\n        \"dtype\": \"category\",\n        \"num_unique_values\": 73,\n        \"samples\": [\n          \"94217\",\n          \"92561\",\n          \"50553\"\n        ],\n        \"semantic_type\": \"\",\n        \"description\": \"\"\n      }\n    },\n    {\n      \"column\": \"COUNTRY\",\n      \"properties\": {\n        \"dtype\": \"category\",\n        \"num_unique_values\": 19,\n        \"samples\": [\n          \"USA\",\n          \"Austria\",\n          \"Japan\"\n        ],\n        \"semantic_type\": \"\",\n        \"description\": \"\"\n      }\n    },\n    {\n      \"column\": \"TERRITORY\",\n      \"properties\": {\n        \"dtype\": \"category\",\n        \"num_unique_values\": 3,\n        \"samples\": [\n          \"EMEA\",\n          \"APAC\",\n          \"Japan\"\n        ],\n        \"semantic_type\": \"\",\n        \"description\": \"\"\n      }\n    },\n    {\n      \"column\": \"CONTACTLASTNAME\",\n      \"properties\": {\n        \"dtype\": \"category\",\n        \"num_unique_values\": 77,\n        \"samples\": [\n          \"Brown\",\n          \"Nelson\",\n          \"Ferguson\"\n        ],\n        \"semantic_type\": \"\",\n        \"description\": \"\"\n      }\n    },\n    {\n      \"column\": \"CONTACTFIRSTNAME\",\n      \"properties\": {\n        \"dtype\": \"category\",\n        \"num_unique_values\": 72,\n        \"samples\": [\n          \"Juri\",\n          \"Victoria\",\n          \"Violeta\"\n        ],\n        \"semantic_type\": \"\",\n        \"description\": \"\"\n      }\n    },\n    {\n      \"column\": \"DEALSIZE\",\n      \"properties\": {\n        \"dtype\": \"category\",\n        \"num_unique_values\": 3,\n        \"samples\": [\n          \"Small\",\n          \"Medium\",\n          \"Large\"\n        ],\n        \"semantic_type\": \"\",\n        \"description\": \"\"\n      }\n    },\n    {\n      \"column\": \"Sales\",\n      \"properties\": {\n        \"dtype\": \"number\",\n        \"std\": 1105.644283746358,\n        \"min\": 482.13,\n        \"max\": 9048.16,\n        \"num_unique_values\": 1539,\n        \"samples\": [\n          1921.92,\n          3107.61,\n          1997.5\n        ],\n        \"semantic_type\": \"\",\n        \"description\": \"\"\n      }\n    }\n  ]\n}"
            }
          },
          "metadata": {},
          "execution_count": 39
        }
      ]
    },
    {
      "cell_type": "code",
      "source": [
        "# Create a 3D scatter plot using Plotly"
      ],
      "metadata": {
        "id": "yO7NvvIlz4E3"
      },
      "execution_count": null,
      "outputs": []
    },
    {
      "cell_type": "code",
      "source": [
        "import pandas as pd\n",
        "import seaborn as sns\n",
        "import matplotlib.pyplot as plt\n",
        "\n",
        "data = {\n",
        "    'Student_ID': list(range(1, 13)),\n",
        "    'Marks': [67, 64, 87, 76, 89, 54, 56, 43, 67, 87, 88, 65],\n",
        "    'Study_Hours': [5, 4, 7, 6, 8, 3, 3, 2, 5, 7, 8, 4]\n",
        "}\n",
        "\n",
        "df = pd.DataFrame(data)\n",
        "\n",
        "plt.figure(figsize=(10,8))\n",
        "fig = px.scatter_3d(df, x='Student_ID', y='Marks',z='Study_Hours' , size='Marks',color='Marks')\n",
        "fig.show()"
      ],
      "metadata": {
        "colab": {
          "base_uri": "https://localhost:8080/",
          "height": 559
        },
        "id": "zm6S-fk-0Keq",
        "outputId": "21058327-a571-4968-aa43-2b41bf377425"
      },
      "execution_count": null,
      "outputs": [
        {
          "output_type": "display_data",
          "data": {
            "text/html": [
              "<html>\n",
              "<head><meta charset=\"utf-8\" /></head>\n",
              "<body>\n",
              "    <div>            <script src=\"https://cdnjs.cloudflare.com/ajax/libs/mathjax/2.7.5/MathJax.js?config=TeX-AMS-MML_SVG\"></script><script type=\"text/javascript\">if (window.MathJax && window.MathJax.Hub && window.MathJax.Hub.Config) {window.MathJax.Hub.Config({SVG: {font: \"STIX-Web\"}});}</script>                <script type=\"text/javascript\">window.PlotlyConfig = {MathJaxConfig: 'local'};</script>\n",
              "        <script charset=\"utf-8\" src=\"https://cdn.plot.ly/plotly-2.35.2.min.js\"></script>                <div id=\"0257f71e-d7b6-47bf-b486-34642b54be07\" class=\"plotly-graph-div\" style=\"height:525px; width:100%;\"></div>            <script type=\"text/javascript\">                                    window.PLOTLYENV=window.PLOTLYENV || {};                                    if (document.getElementById(\"0257f71e-d7b6-47bf-b486-34642b54be07\")) {                    Plotly.newPlot(                        \"0257f71e-d7b6-47bf-b486-34642b54be07\",                        [{\"hovertemplate\":\"Student_ID=%{x}\\u003cbr\\u003eMarks=%{marker.color}\\u003cbr\\u003eStudy_Hours=%{z}\\u003cextra\\u003e\\u003c\\u002fextra\\u003e\",\"legendgroup\":\"\",\"marker\":{\"color\":[67,64,87,76,89,54,56,43,67,87,88,65],\"coloraxis\":\"coloraxis\",\"size\":[67,64,87,76,89,54,56,43,67,87,88,65],\"sizemode\":\"area\",\"sizeref\":0.2225,\"symbol\":\"circle\"},\"mode\":\"markers\",\"name\":\"\",\"scene\":\"scene\",\"showlegend\":false,\"x\":[1,2,3,4,5,6,7,8,9,10,11,12],\"y\":[67,64,87,76,89,54,56,43,67,87,88,65],\"z\":[5,4,7,6,8,3,3,2,5,7,8,4],\"type\":\"scatter3d\"}],                        {\"template\":{\"data\":{\"histogram2dcontour\":[{\"type\":\"histogram2dcontour\",\"colorbar\":{\"outlinewidth\":0,\"ticks\":\"\"},\"colorscale\":[[0.0,\"#0d0887\"],[0.1111111111111111,\"#46039f\"],[0.2222222222222222,\"#7201a8\"],[0.3333333333333333,\"#9c179e\"],[0.4444444444444444,\"#bd3786\"],[0.5555555555555556,\"#d8576b\"],[0.6666666666666666,\"#ed7953\"],[0.7777777777777778,\"#fb9f3a\"],[0.8888888888888888,\"#fdca26\"],[1.0,\"#f0f921\"]]}],\"choropleth\":[{\"type\":\"choropleth\",\"colorbar\":{\"outlinewidth\":0,\"ticks\":\"\"}}],\"histogram2d\":[{\"type\":\"histogram2d\",\"colorbar\":{\"outlinewidth\":0,\"ticks\":\"\"},\"colorscale\":[[0.0,\"#0d0887\"],[0.1111111111111111,\"#46039f\"],[0.2222222222222222,\"#7201a8\"],[0.3333333333333333,\"#9c179e\"],[0.4444444444444444,\"#bd3786\"],[0.5555555555555556,\"#d8576b\"],[0.6666666666666666,\"#ed7953\"],[0.7777777777777778,\"#fb9f3a\"],[0.8888888888888888,\"#fdca26\"],[1.0,\"#f0f921\"]]}],\"heatmap\":[{\"type\":\"heatmap\",\"colorbar\":{\"outlinewidth\":0,\"ticks\":\"\"},\"colorscale\":[[0.0,\"#0d0887\"],[0.1111111111111111,\"#46039f\"],[0.2222222222222222,\"#7201a8\"],[0.3333333333333333,\"#9c179e\"],[0.4444444444444444,\"#bd3786\"],[0.5555555555555556,\"#d8576b\"],[0.6666666666666666,\"#ed7953\"],[0.7777777777777778,\"#fb9f3a\"],[0.8888888888888888,\"#fdca26\"],[1.0,\"#f0f921\"]]}],\"heatmapgl\":[{\"type\":\"heatmapgl\",\"colorbar\":{\"outlinewidth\":0,\"ticks\":\"\"},\"colorscale\":[[0.0,\"#0d0887\"],[0.1111111111111111,\"#46039f\"],[0.2222222222222222,\"#7201a8\"],[0.3333333333333333,\"#9c179e\"],[0.4444444444444444,\"#bd3786\"],[0.5555555555555556,\"#d8576b\"],[0.6666666666666666,\"#ed7953\"],[0.7777777777777778,\"#fb9f3a\"],[0.8888888888888888,\"#fdca26\"],[1.0,\"#f0f921\"]]}],\"contourcarpet\":[{\"type\":\"contourcarpet\",\"colorbar\":{\"outlinewidth\":0,\"ticks\":\"\"}}],\"contour\":[{\"type\":\"contour\",\"colorbar\":{\"outlinewidth\":0,\"ticks\":\"\"},\"colorscale\":[[0.0,\"#0d0887\"],[0.1111111111111111,\"#46039f\"],[0.2222222222222222,\"#7201a8\"],[0.3333333333333333,\"#9c179e\"],[0.4444444444444444,\"#bd3786\"],[0.5555555555555556,\"#d8576b\"],[0.6666666666666666,\"#ed7953\"],[0.7777777777777778,\"#fb9f3a\"],[0.8888888888888888,\"#fdca26\"],[1.0,\"#f0f921\"]]}],\"surface\":[{\"type\":\"surface\",\"colorbar\":{\"outlinewidth\":0,\"ticks\":\"\"},\"colorscale\":[[0.0,\"#0d0887\"],[0.1111111111111111,\"#46039f\"],[0.2222222222222222,\"#7201a8\"],[0.3333333333333333,\"#9c179e\"],[0.4444444444444444,\"#bd3786\"],[0.5555555555555556,\"#d8576b\"],[0.6666666666666666,\"#ed7953\"],[0.7777777777777778,\"#fb9f3a\"],[0.8888888888888888,\"#fdca26\"],[1.0,\"#f0f921\"]]}],\"mesh3d\":[{\"type\":\"mesh3d\",\"colorbar\":{\"outlinewidth\":0,\"ticks\":\"\"}}],\"scatter\":[{\"fillpattern\":{\"fillmode\":\"overlay\",\"size\":10,\"solidity\":0.2},\"type\":\"scatter\"}],\"parcoords\":[{\"type\":\"parcoords\",\"line\":{\"colorbar\":{\"outlinewidth\":0,\"ticks\":\"\"}}}],\"scatterpolargl\":[{\"type\":\"scatterpolargl\",\"marker\":{\"colorbar\":{\"outlinewidth\":0,\"ticks\":\"\"}}}],\"bar\":[{\"error_x\":{\"color\":\"#2a3f5f\"},\"error_y\":{\"color\":\"#2a3f5f\"},\"marker\":{\"line\":{\"color\":\"#E5ECF6\",\"width\":0.5},\"pattern\":{\"fillmode\":\"overlay\",\"size\":10,\"solidity\":0.2}},\"type\":\"bar\"}],\"scattergeo\":[{\"type\":\"scattergeo\",\"marker\":{\"colorbar\":{\"outlinewidth\":0,\"ticks\":\"\"}}}],\"scatterpolar\":[{\"type\":\"scatterpolar\",\"marker\":{\"colorbar\":{\"outlinewidth\":0,\"ticks\":\"\"}}}],\"histogram\":[{\"marker\":{\"pattern\":{\"fillmode\":\"overlay\",\"size\":10,\"solidity\":0.2}},\"type\":\"histogram\"}],\"scattergl\":[{\"type\":\"scattergl\",\"marker\":{\"colorbar\":{\"outlinewidth\":0,\"ticks\":\"\"}}}],\"scatter3d\":[{\"type\":\"scatter3d\",\"line\":{\"colorbar\":{\"outlinewidth\":0,\"ticks\":\"\"}},\"marker\":{\"colorbar\":{\"outlinewidth\":0,\"ticks\":\"\"}}}],\"scattermapbox\":[{\"type\":\"scattermapbox\",\"marker\":{\"colorbar\":{\"outlinewidth\":0,\"ticks\":\"\"}}}],\"scatterternary\":[{\"type\":\"scatterternary\",\"marker\":{\"colorbar\":{\"outlinewidth\":0,\"ticks\":\"\"}}}],\"scattercarpet\":[{\"type\":\"scattercarpet\",\"marker\":{\"colorbar\":{\"outlinewidth\":0,\"ticks\":\"\"}}}],\"carpet\":[{\"aaxis\":{\"endlinecolor\":\"#2a3f5f\",\"gridcolor\":\"white\",\"linecolor\":\"white\",\"minorgridcolor\":\"white\",\"startlinecolor\":\"#2a3f5f\"},\"baxis\":{\"endlinecolor\":\"#2a3f5f\",\"gridcolor\":\"white\",\"linecolor\":\"white\",\"minorgridcolor\":\"white\",\"startlinecolor\":\"#2a3f5f\"},\"type\":\"carpet\"}],\"table\":[{\"cells\":{\"fill\":{\"color\":\"#EBF0F8\"},\"line\":{\"color\":\"white\"}},\"header\":{\"fill\":{\"color\":\"#C8D4E3\"},\"line\":{\"color\":\"white\"}},\"type\":\"table\"}],\"barpolar\":[{\"marker\":{\"line\":{\"color\":\"#E5ECF6\",\"width\":0.5},\"pattern\":{\"fillmode\":\"overlay\",\"size\":10,\"solidity\":0.2}},\"type\":\"barpolar\"}],\"pie\":[{\"automargin\":true,\"type\":\"pie\"}]},\"layout\":{\"autotypenumbers\":\"strict\",\"colorway\":[\"#636efa\",\"#EF553B\",\"#00cc96\",\"#ab63fa\",\"#FFA15A\",\"#19d3f3\",\"#FF6692\",\"#B6E880\",\"#FF97FF\",\"#FECB52\"],\"font\":{\"color\":\"#2a3f5f\"},\"hovermode\":\"closest\",\"hoverlabel\":{\"align\":\"left\"},\"paper_bgcolor\":\"white\",\"plot_bgcolor\":\"#E5ECF6\",\"polar\":{\"bgcolor\":\"#E5ECF6\",\"angularaxis\":{\"gridcolor\":\"white\",\"linecolor\":\"white\",\"ticks\":\"\"},\"radialaxis\":{\"gridcolor\":\"white\",\"linecolor\":\"white\",\"ticks\":\"\"}},\"ternary\":{\"bgcolor\":\"#E5ECF6\",\"aaxis\":{\"gridcolor\":\"white\",\"linecolor\":\"white\",\"ticks\":\"\"},\"baxis\":{\"gridcolor\":\"white\",\"linecolor\":\"white\",\"ticks\":\"\"},\"caxis\":{\"gridcolor\":\"white\",\"linecolor\":\"white\",\"ticks\":\"\"}},\"coloraxis\":{\"colorbar\":{\"outlinewidth\":0,\"ticks\":\"\"}},\"colorscale\":{\"sequential\":[[0.0,\"#0d0887\"],[0.1111111111111111,\"#46039f\"],[0.2222222222222222,\"#7201a8\"],[0.3333333333333333,\"#9c179e\"],[0.4444444444444444,\"#bd3786\"],[0.5555555555555556,\"#d8576b\"],[0.6666666666666666,\"#ed7953\"],[0.7777777777777778,\"#fb9f3a\"],[0.8888888888888888,\"#fdca26\"],[1.0,\"#f0f921\"]],\"sequentialminus\":[[0.0,\"#0d0887\"],[0.1111111111111111,\"#46039f\"],[0.2222222222222222,\"#7201a8\"],[0.3333333333333333,\"#9c179e\"],[0.4444444444444444,\"#bd3786\"],[0.5555555555555556,\"#d8576b\"],[0.6666666666666666,\"#ed7953\"],[0.7777777777777778,\"#fb9f3a\"],[0.8888888888888888,\"#fdca26\"],[1.0,\"#f0f921\"]],\"diverging\":[[0,\"#8e0152\"],[0.1,\"#c51b7d\"],[0.2,\"#de77ae\"],[0.3,\"#f1b6da\"],[0.4,\"#fde0ef\"],[0.5,\"#f7f7f7\"],[0.6,\"#e6f5d0\"],[0.7,\"#b8e186\"],[0.8,\"#7fbc41\"],[0.9,\"#4d9221\"],[1,\"#276419\"]]},\"xaxis\":{\"gridcolor\":\"white\",\"linecolor\":\"white\",\"ticks\":\"\",\"title\":{\"standoff\":15},\"zerolinecolor\":\"white\",\"automargin\":true,\"zerolinewidth\":2},\"yaxis\":{\"gridcolor\":\"white\",\"linecolor\":\"white\",\"ticks\":\"\",\"title\":{\"standoff\":15},\"zerolinecolor\":\"white\",\"automargin\":true,\"zerolinewidth\":2},\"scene\":{\"xaxis\":{\"backgroundcolor\":\"#E5ECF6\",\"gridcolor\":\"white\",\"linecolor\":\"white\",\"showbackground\":true,\"ticks\":\"\",\"zerolinecolor\":\"white\",\"gridwidth\":2},\"yaxis\":{\"backgroundcolor\":\"#E5ECF6\",\"gridcolor\":\"white\",\"linecolor\":\"white\",\"showbackground\":true,\"ticks\":\"\",\"zerolinecolor\":\"white\",\"gridwidth\":2},\"zaxis\":{\"backgroundcolor\":\"#E5ECF6\",\"gridcolor\":\"white\",\"linecolor\":\"white\",\"showbackground\":true,\"ticks\":\"\",\"zerolinecolor\":\"white\",\"gridwidth\":2}},\"shapedefaults\":{\"line\":{\"color\":\"#2a3f5f\"}},\"annotationdefaults\":{\"arrowcolor\":\"#2a3f5f\",\"arrowhead\":0,\"arrowwidth\":1},\"geo\":{\"bgcolor\":\"white\",\"landcolor\":\"#E5ECF6\",\"subunitcolor\":\"white\",\"showland\":true,\"showlakes\":true,\"lakecolor\":\"white\"},\"title\":{\"x\":0.05},\"mapbox\":{\"style\":\"light\"}}},\"scene\":{\"domain\":{\"x\":[0.0,1.0],\"y\":[0.0,1.0]},\"xaxis\":{\"title\":{\"text\":\"Student_ID\"}},\"yaxis\":{\"title\":{\"text\":\"Marks\"}},\"zaxis\":{\"title\":{\"text\":\"Study_Hours\"}}},\"coloraxis\":{\"colorbar\":{\"title\":{\"text\":\"Marks\"}},\"colorscale\":[[0.0,\"#0d0887\"],[0.1111111111111111,\"#46039f\"],[0.2222222222222222,\"#7201a8\"],[0.3333333333333333,\"#9c179e\"],[0.4444444444444444,\"#bd3786\"],[0.5555555555555556,\"#d8576b\"],[0.6666666666666666,\"#ed7953\"],[0.7777777777777778,\"#fb9f3a\"],[0.8888888888888888,\"#fdca26\"],[1.0,\"#f0f921\"]]},\"legend\":{\"tracegroupgap\":0,\"itemsizing\":\"constant\"},\"margin\":{\"t\":60}},                        {\"responsive\": true}                    ).then(function(){\n",
              "                            \n",
              "var gd = document.getElementById('0257f71e-d7b6-47bf-b486-34642b54be07');\n",
              "var x = new MutationObserver(function (mutations, observer) {{\n",
              "        var display = window.getComputedStyle(gd).display;\n",
              "        if (!display || display === 'none') {{\n",
              "            console.log([gd, 'removed!']);\n",
              "            Plotly.purge(gd);\n",
              "            observer.disconnect();\n",
              "        }}\n",
              "}});\n",
              "\n",
              "// Listen for the removal of the full notebook cells\n",
              "var notebookContainer = gd.closest('#notebook-container');\n",
              "if (notebookContainer) {{\n",
              "    x.observe(notebookContainer, {childList: true});\n",
              "}}\n",
              "\n",
              "// Listen for the clearing of the current output cell\n",
              "var outputEl = gd.closest('.output');\n",
              "if (outputEl) {{\n",
              "    x.observe(outputEl, {childList: true});\n",
              "}}\n",
              "\n",
              "                        })                };                            </script>        </div>\n",
              "</body>\n",
              "</html>"
            ]
          },
          "metadata": {}
        },
        {
          "output_type": "display_data",
          "data": {
            "text/plain": [
              "<Figure size 1000x800 with 0 Axes>"
            ]
          },
          "metadata": {}
        }
      ]
    },
    {
      "cell_type": "code",
      "source": [],
      "metadata": {
        "id": "tcW9SHtu58Kj"
      },
      "execution_count": null,
      "outputs": []
    }
  ]
}